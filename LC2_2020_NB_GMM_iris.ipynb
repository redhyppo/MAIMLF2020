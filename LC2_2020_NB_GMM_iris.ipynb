{
  "nbformat": 4,
  "nbformat_minor": 0,
  "metadata": {
    "colab": {
      "name": "NB_GMM_iris_LC2_2020.ipynb",
      "provenance": [],
      "collapsed_sections": [],
      "toc_visible": true,
      "include_colab_link": true
    },
    "kernelspec": {
      "display_name": "Python 3",
      "language": "python",
      "name": "python3"
    },
    "language_info": {
      "codemirror_mode": {
        "name": "ipython",
        "version": 3
      },
      "file_extension": ".py",
      "mimetype": "text/x-python",
      "name": "python",
      "nbconvert_exporter": "python",
      "pygments_lexer": "ipython3",
      "version": "3.5.2"
    }
  },
  "cells": [
    {
      "cell_type": "markdown",
      "metadata": {
        "id": "view-in-github",
        "colab_type": "text"
      },
      "source": [
        "<a href=\"https://colab.research.google.com/github/redhyppo/MAIMLF2020/blob/master/LC2_2020_NB_GMM_iris.ipynb\" target=\"_parent\"><img src=\"https://colab.research.google.com/assets/colab-badge.svg\" alt=\"Open In Colab\"/></a>"
      ]
    },
    {
      "cell_type": "markdown",
      "metadata": {
        "colab_type": "text",
        "id": "tFr3s1eh9_Mi"
      },
      "source": [
        "# Clustering con Gaussian Mixture Model applicato al dataset iris\n",
        "da esempio originale di Oscar Contreras Carrasco"
      ]
    },
    {
      "cell_type": "code",
      "metadata": {
        "colab_type": "code",
        "id": "irGOL_Dcw8ja",
        "colab": {}
      },
      "source": [
        "import numpy as np\n",
        "\n",
        "import imageio\n",
        "import matplotlib.animation as ani\n",
        "import matplotlib.cm as cmx\n",
        "import matplotlib.colors as colors\n",
        "import matplotlib.pyplot as plt\n",
        "import numpy as np\n",
        "\n",
        "from matplotlib.patches import Ellipse\n",
        "from PIL import Image\n",
        "from sklearn.cluster import KMeans"
      ],
      "execution_count": 0,
      "outputs": []
    },
    {
      "cell_type": "markdown",
      "metadata": {
        "colab_type": "text",
        "id": "hN_TKq1kVRJT"
      },
      "source": [
        "**Iris dataset da scikit-learn**\n",
        "\n",
        "Consiste in 150 istanze di Iris misurate da Edgar Anderson e classificate secondo tre specie: *Iris setosa*, *Iris virginica* e *Iris versicolor*. Le quattro variabili considerate sono la lunghezza e la larghezza del sepalo e del petalo"
      ]
    },
    {
      "cell_type": "code",
      "metadata": {
        "colab_type": "code",
        "id": "mcCzJFnT_fRQ",
        "outputId": "e8fb4fc4-ead4-404f-fa66-5e705c233d3d",
        "colab": {
          "base_uri": "https://localhost:8080/",
          "height": 357
        }
      },
      "source": [
        "from sklearn import datasets\n",
        "iris = datasets.load_iris()\n",
        "X = iris.data\n",
        "#stampa efeature reative ai primi 20 eventi del dataset\n",
        "X[:20]"
      ],
      "execution_count": 0,
      "outputs": [
        {
          "output_type": "execute_result",
          "data": {
            "text/plain": [
              "array([[5.1, 3.5, 1.4, 0.2],\n",
              "       [4.9, 3. , 1.4, 0.2],\n",
              "       [4.7, 3.2, 1.3, 0.2],\n",
              "       [4.6, 3.1, 1.5, 0.2],\n",
              "       [5. , 3.6, 1.4, 0.2],\n",
              "       [5.4, 3.9, 1.7, 0.4],\n",
              "       [4.6, 3.4, 1.4, 0.3],\n",
              "       [5. , 3.4, 1.5, 0.2],\n",
              "       [4.4, 2.9, 1.4, 0.2],\n",
              "       [4.9, 3.1, 1.5, 0.1],\n",
              "       [5.4, 3.7, 1.5, 0.2],\n",
              "       [4.8, 3.4, 1.6, 0.2],\n",
              "       [4.8, 3. , 1.4, 0.1],\n",
              "       [4.3, 3. , 1.1, 0.1],\n",
              "       [5.8, 4. , 1.2, 0.2],\n",
              "       [5.7, 4.4, 1.5, 0.4],\n",
              "       [5.4, 3.9, 1.3, 0.4],\n",
              "       [5.1, 3.5, 1.4, 0.3],\n",
              "       [5.7, 3.8, 1.7, 0.3],\n",
              "       [5.1, 3.8, 1.5, 0.3]])"
            ]
          },
          "metadata": {
            "tags": []
          },
          "execution_count": 2
        }
      ]
    },
    {
      "cell_type": "markdown",
      "metadata": {
        "colab_type": "text",
        "id": "Vgz6E8z9VaVJ"
      },
      "source": [
        "**Parte 1: implementazione \"a mano\" del modello**\n",
        "\n",
        "Gaussian density function (può essere fatto usando direttamente la funzione di numpy qui lo facciamo noi come esempio)\n",
        "\n",
        "\\begin{equation}\n",
        "\\large\n",
        "p(\\mathbf x | \\mathbf\\mu, \\mathbf\\Sigma) = \\frac 1 {({2\\pi})^{n/2}|\\Sigma|^{1/2}}\\exp\\left(-\\frac 1 2 (\\mathbf x -\\mathbf\\mu)^T\\mathbf\\Sigma^{-1}(\\mathbf x -\\mathbf\\mu)\\right)\n",
        "\\end{equation}\n"
      ]
    },
    {
      "cell_type": "code",
      "metadata": {
        "colab_type": "code",
        "id": "Wk9WlrFVHtcN",
        "colab": {}
      },
      "source": [
        "def gaussian(X, mu, cov):\n",
        "    n = X.shape[1]\n",
        "    diff = (X - mu).T\n",
        "    return np.diagonal(1 / ((2 * np.pi) ** (n / 2) * np.linalg.det(cov) ** 0.5) * np.exp(-0.5 * np.dot(np.dot(diff.T, np.linalg.inv(cov)), diff))).reshape(-1, 1)"
      ],
      "execution_count": 0,
      "outputs": []
    },
    {
      "cell_type": "code",
      "metadata": {
        "colab_type": "code",
        "id": "7PHi0Tu4xQAS",
        "outputId": "7d679f7c-b05d-4de6-8e91-fbca181bb1e2",
        "colab": {
          "base_uri": "https://localhost:8080/",
          "height": 102
        }
      },
      "source": [
        "#test\n",
        "x0 = np.array([[0.05, 1.413, 0.212], [0.85, -0.3, 1.11], [11.1, 0.4, 1.5], [0.27, 0.12, 1.44], [88, 12.33, 1.44]])\n",
        "mu = np.mean(x0, axis=0)\n",
        "cov = np.dot((x0 - mu).T, x0 - mu) / (x0.shape[0] - 1)\n",
        "\n",
        "y = gaussian(x0, mu=mu, cov=cov)\n",
        "y"
      ],
      "execution_count": 0,
      "outputs": [
        {
          "output_type": "execute_result",
          "data": {
            "text/plain": [
              "array([[0.00159853],\n",
              "       [0.00481869],\n",
              "       [0.00276259],\n",
              "       [0.0014309 ],\n",
              "       [0.00143998]])"
            ]
          },
          "metadata": {
            "tags": []
          },
          "execution_count": 4
        }
      ]
    },
    {
      "cell_type": "markdown",
      "metadata": {
        "colab_type": "text",
        "id": "NsxI7u2NXpWY"
      },
      "source": [
        "__Step 1__\n",
        "\n",
        "Inizializzazione dei parametri $\\pi_k$, $\\mu_k$, e $\\Sigma_k$. Come guess iniziale addestriamo un modello di k-means clustering e utilizziamo i centroidi trovati dal modello come punto di partenza ... "
      ]
    },
    {
      "cell_type": "code",
      "metadata": {
        "colab_type": "code",
        "id": "XEZjEtUqRfgG",
        "colab": {}
      },
      "source": [
        "from sklearn.cluster import KMeans\n",
        "def initialize_clusters(X, n_clusters):\n",
        "    clusters = []\n",
        "    idx = np.arange(X.shape[0])\n",
        "    \n",
        "    # We use the KMeans centroids to initialise the GMM\n",
        "    \n",
        "    kmeans = KMeans().fit(X)\n",
        "    mu_k = kmeans.cluster_centers_\n",
        "    \n",
        "    for i in range(n_clusters):\n",
        "        clusters.append({\n",
        "            'pi_k': 1.0 / n_clusters,\n",
        "            'mu_k': mu_k[i],\n",
        "            'cov_k': np.identity(X.shape[1], dtype=np.float64)\n",
        "        })\n",
        "        \n",
        "    return clusters"
      ],
      "execution_count": 0,
      "outputs": []
    },
    {
      "cell_type": "markdown",
      "metadata": {
        "colab_type": "text",
        "id": "b4HIKt0OYCex"
      },
      "source": [
        "**Step 2 (Expectation step)**\n",
        "\n",
        "calcolo di $\\gamma(z_{nk})$ tramite l'espressione:\n",
        "\n",
        "\\begin{equation}\n",
        "\\large\n",
        "\\gamma{(z_{nk})}=\\frac {\\pi_k\\mathcal N(\\mathbf x_n| \\mathbf\\mu_k, \\mathbf\\Sigma_k)}{\\sum_{j=1}^K\\pi_j\\mathcal N(\\mathbf x_n| \\mathbf\\mu_j, \\mathbf\\Sigma_j)}\n",
        "\\end{equation}\n",
        "\n",
        "per comodità calcoliamo il denominatore come somma di tutti i termini nel numeratore e salviamo (servirà dopo nel calcolo della likelihood) il totale nella variabile __totals__"
      ]
    },
    {
      "cell_type": "code",
      "metadata": {
        "colab_type": "code",
        "id": "78Xqp2nSGugd",
        "colab": {}
      },
      "source": [
        "def expectation_step(X, clusters):\n",
        "    totals = np.zeros((X.shape[0], 1), dtype=np.float64)\n",
        "    \n",
        "    for cluster in clusters:\n",
        "        pi_k = cluster['pi_k']\n",
        "        mu_k = cluster['mu_k']\n",
        "        cov_k = cluster['cov_k']\n",
        "        \n",
        "        gamma_nk = (pi_k * gaussian(X, mu_k, cov_k)).astype(np.float64)\n",
        "        \n",
        "        for i in range(X.shape[0]):\n",
        "            totals[i] += gamma_nk[i]\n",
        "        \n",
        "        cluster['gamma_nk'] = gamma_nk\n",
        "        cluster['totals'] = totals\n",
        "        \n",
        "    \n",
        "    for cluster in clusters:\n",
        "        cluster['gamma_nk'] /= cluster['totals']"
      ],
      "execution_count": 0,
      "outputs": []
    },
    {
      "cell_type": "markdown",
      "metadata": {
        "colab_type": "text",
        "id": "_VHT5Ph1ZAFu"
      },
      "source": [
        "**Step 3 (Maximization step):**\n",
        "\n",
        "calcolo:\n",
        "\n",
        "\\begin{equation}\n",
        "\\large\n",
        "N_k=\\sum_{n=1}^N\\gamma({z_{nk}})\n",
        "\\end{equation}\n",
        "\n",
        "e dei parametri aggiornati:\n",
        "\n",
        "\\begin{equation}\n",
        "\\large\n",
        "\\pi_k^*=\\frac {N_k} N\n",
        "\\end{equation}\n",
        "\n",
        "\\begin{equation}\n",
        "\\large\n",
        "\\mu_k^*=\\frac 1 {N_k} \\sum_{n=1}^N\\gamma({z_{nk}})\\mathbf x_n\n",
        "\\end{equation}\n",
        "\n",
        "\\begin{equation}\n",
        "\\large\n",
        "\\Sigma_k^*=\\frac 1 {N_k} \\sum_{n=1}^N\\gamma({z_{nk}})(\\mathbf x_n-\\mathbf\\mu_k)(\\mathbf x_n-\\mathbf\\mu_k)^T\n",
        "\\end{equation}"
      ]
    },
    {
      "cell_type": "code",
      "metadata": {
        "colab_type": "code",
        "id": "7Z7K5jrEJHHu",
        "colab": {}
      },
      "source": [
        "def maximization_step(X, clusters):\n",
        "    N = float(X.shape[0])\n",
        "  \n",
        "    for cluster in clusters:\n",
        "        gamma_nk = cluster['gamma_nk']\n",
        "        cov_k = np.zeros((X.shape[1], X.shape[1]))\n",
        "        \n",
        "        N_k = np.sum(gamma_nk, axis=0)\n",
        "        \n",
        "        pi_k = N_k / N\n",
        "        mu_k = np.sum(gamma_nk * X, axis=0) / N_k\n",
        "        \n",
        "        for j in range(X.shape[0]):\n",
        "            diff = (X[j] - mu_k).reshape(-1, 1)\n",
        "            cov_k += gamma_nk[j] * np.dot(diff, diff.T)\n",
        "            \n",
        "        cov_k /= N_k\n",
        "        \n",
        "        cluster['pi_k'] = pi_k\n",
        "        cluster['mu_k'] = mu_k\n",
        "        cluster['cov_k'] = cov_k"
      ],
      "execution_count": 0,
      "outputs": []
    },
    {
      "cell_type": "markdown",
      "metadata": {
        "colab_type": "text",
        "id": "Qzbylmjoa_61"
      },
      "source": [
        "**Definizione della log-likelihood del modello:**\n",
        "\n",
        "\\begin{equation}\n",
        "\\large\n",
        "\\ln p(\\mathbf X)=\\sum_{n=1}^N\\ln\\sum_{k=1}^K\\pi_k\\mathcal N(\\mathbf x_n|\\mu_k,\\Sigma_k)\n",
        "\\end{equation}\n",
        "\n",
        "poiché la seconda sommatoria corrisponde al denominatore in $\\gamma$ calcolato nel __expectation_step__ e disponibile in __totals__ non dobbiamo ricalcolarlo qui ..."
      ]
    },
    {
      "cell_type": "code",
      "metadata": {
        "colab_type": "code",
        "id": "vzVrZY6PTMR8",
        "colab": {}
      },
      "source": [
        "def get_likelihood(X, clusters):\n",
        "    likelihood = []\n",
        "    sample_likelihoods = np.log(np.array([cluster['totals'] for cluster in clusters]))\n",
        "    return np.sum(sample_likelihoods), sample_likelihoods"
      ],
      "execution_count": 0,
      "outputs": []
    },
    {
      "cell_type": "markdown",
      "metadata": {
        "colab_type": "text",
        "id": "oGSkyh33bNu8"
      },
      "source": [
        "**Algoritmo:** \n",
        "si itera la procedura per un numero fissato di epoche __n_epochs__ e si monitora il valore della log-likelihood per vedere quanto questa raggiunge un plateaux ..."
      ]
    },
    {
      "cell_type": "code",
      "metadata": {
        "colab_type": "code",
        "id": "9qWFzpI3Uq-9",
        "colab": {}
      },
      "source": [
        "def train_gmm(X, n_clusters, n_epochs):\n",
        "    clusters = initialize_clusters(X, n_clusters)\n",
        "    likelihoods = np.zeros((n_epochs, ))\n",
        "    scores = np.zeros((X.shape[0], n_clusters))\n",
        "    history = []\n",
        "\n",
        "    for i in range(n_epochs):\n",
        "        clusters_snapshot = []\n",
        "        \n",
        "        # This is just for our later use in the graphs\n",
        "        for cluster in clusters:\n",
        "            clusters_snapshot.append({\n",
        "                'mu_k': cluster['mu_k'].copy(),\n",
        "                'cov_k': cluster['cov_k'].copy()\n",
        "            })\n",
        "            \n",
        "        history.append(clusters_snapshot)\n",
        "      \n",
        "        expectation_step(X, clusters)\n",
        "        maximization_step(X, clusters)\n",
        "\n",
        "        likelihood, sample_likelihoods = get_likelihood(X, clusters)\n",
        "        likelihoods[i] = likelihood\n",
        "\n",
        "        print('Epoch: ', i + 1, 'Likelihood: ', likelihood)\n",
        "        \n",
        "    for i, cluster in enumerate(clusters):\n",
        "        scores[:, i] = np.log(cluster['gamma_nk']).reshape(-1)\n",
        "        \n",
        "    return clusters, likelihoods, scores, sample_likelihoods, history"
      ],
      "execution_count": 0,
      "outputs": []
    },
    {
      "cell_type": "markdown",
      "metadata": {
        "colab_type": "text",
        "id": "QqhgdUKrbUrf"
      },
      "source": [
        "**Training del modello:**"
      ]
    },
    {
      "cell_type": "code",
      "metadata": {
        "colab_type": "code",
        "id": "5h10mICZGwrh",
        "outputId": "1a468a34-45a1-4049-b8b8-b5b30996cfc8",
        "colab": {
          "base_uri": "https://localhost:8080/",
          "height": 867
        }
      },
      "source": [
        "#scegliamo il numero di clusters e il numero di iterazioni (epoche)\n",
        "n_clusters = 3\n",
        "n_epochs = 50\n",
        "\n",
        "clusters, likelihoods, scores, sample_likelihoods, history = train_gmm(X, n_clusters, n_epochs)"
      ],
      "execution_count": 0,
      "outputs": [
        {
          "output_type": "stream",
          "text": [
            "Epoch:  1 Likelihood:  -2229.4640201714483\n",
            "Epoch:  2 Likelihood:  -683.7674657732875\n",
            "Epoch:  3 Likelihood:  -615.1258325978652\n",
            "Epoch:  4 Likelihood:  -602.8821740020426\n",
            "Epoch:  5 Likelihood:  -591.3823049621603\n",
            "Epoch:  6 Likelihood:  -578.0597614671799\n",
            "Epoch:  7 Likelihood:  -562.8217037621116\n",
            "Epoch:  8 Likelihood:  -549.9200309435398\n",
            "Epoch:  9 Likelihood:  -543.4323767591648\n",
            "Epoch:  10 Likelihood:  -541.2017368514496\n",
            "Epoch:  11 Likelihood:  -540.7051172672\n",
            "Epoch:  12 Likelihood:  -540.5975242889677\n",
            "Epoch:  13 Likelihood:  -540.5687726997342\n",
            "Epoch:  14 Likelihood:  -540.5602673353436\n",
            "Epoch:  15 Likelihood:  -540.5576419388194\n",
            "Epoch:  16 Likelihood:  -540.5568160714521\n",
            "Epoch:  17 Likelihood:  -540.5565540284952\n",
            "Epoch:  18 Likelihood:  -540.5564705496714\n",
            "Epoch:  19 Likelihood:  -540.5564439052202\n",
            "Epoch:  20 Likelihood:  -540.5564353930918\n",
            "Epoch:  21 Likelihood:  -540.5564326724707\n",
            "Epoch:  22 Likelihood:  -540.5564318027127\n",
            "Epoch:  23 Likelihood:  -540.556431524626\n",
            "Epoch:  24 Likelihood:  -540.5564314357082\n",
            "Epoch:  25 Likelihood:  -540.5564314072758\n",
            "Epoch:  26 Likelihood:  -540.556431398184\n",
            "Epoch:  27 Likelihood:  -540.556431395277\n",
            "Epoch:  28 Likelihood:  -540.5564313943476\n",
            "Epoch:  29 Likelihood:  -540.5564313940499\n",
            "Epoch:  30 Likelihood:  -540.556431393955\n",
            "Epoch:  31 Likelihood:  -540.5564313939246\n",
            "Epoch:  32 Likelihood:  -540.556431393915\n",
            "Epoch:  33 Likelihood:  -540.5564313939117\n",
            "Epoch:  34 Likelihood:  -540.5564313939109\n",
            "Epoch:  35 Likelihood:  -540.5564313939107\n",
            "Epoch:  36 Likelihood:  -540.5564313939103\n",
            "Epoch:  37 Likelihood:  -540.5564313939105\n",
            "Epoch:  38 Likelihood:  -540.5564313939103\n",
            "Epoch:  39 Likelihood:  -540.5564313939104\n",
            "Epoch:  40 Likelihood:  -540.5564313939101\n",
            "Epoch:  41 Likelihood:  -540.5564313939103\n",
            "Epoch:  42 Likelihood:  -540.5564313939101\n",
            "Epoch:  43 Likelihood:  -540.5564313939104\n",
            "Epoch:  44 Likelihood:  -540.5564313939102\n",
            "Epoch:  45 Likelihood:  -540.5564313939103\n",
            "Epoch:  46 Likelihood:  -540.5564313939103\n",
            "Epoch:  47 Likelihood:  -540.5564313939103\n",
            "Epoch:  48 Likelihood:  -540.5564313939105\n",
            "Epoch:  49 Likelihood:  -540.5564313939103\n",
            "Epoch:  50 Likelihood:  -540.5564313939103\n"
          ],
          "name": "stdout"
        }
      ]
    },
    {
      "cell_type": "code",
      "metadata": {
        "id": "BsMJzeUV3r9F",
        "colab_type": "code",
        "outputId": "5fdd8351-0101-41f3-e19e-cca44438cb9e",
        "colab": {
          "base_uri": "https://localhost:8080/",
          "height": 34
        }
      },
      "source": [
        "print(type(clusters))"
      ],
      "execution_count": 0,
      "outputs": [
        {
          "output_type": "stream",
          "text": [
            "<class 'list'>\n"
          ],
          "name": "stdout"
        }
      ]
    },
    {
      "cell_type": "markdown",
      "metadata": {
        "colab_type": "text",
        "id": "Ho3efim_bYxk"
      },
      "source": [
        "**Grafico andamento log-likelihood**"
      ]
    },
    {
      "cell_type": "code",
      "metadata": {
        "colab_type": "code",
        "id": "YV_9LG2WLGeZ",
        "outputId": "e66cc49b-ca0e-4009-8c42-2bd52ba916c9",
        "colab": {
          "base_uri": "https://localhost:8080/",
          "height": 607
        }
      },
      "source": [
        "plt.figure(figsize=(10, 10))\n",
        "plt.title('Log-Likelihood')\n",
        "plt.plot(np.arange(1, n_epochs + 1), likelihoods)\n",
        "plt.show()"
      ],
      "execution_count": 0,
      "outputs": [
        {
          "output_type": "display_data",
          "data": {
            "image/png": "[encoded data removed]",
            "text/plain": [
              "<Figure size 720x720 with 1 Axes>"
            ]
          },
          "metadata": {
            "tags": [],
            "needs_background": "light"
          }
        }
      ]
    },
    {
      "cell_type": "markdown",
      "metadata": {
        "colab_type": "text",
        "id": "V1RMlu7ybb6r"
      },
      "source": [
        "**Visualizzazione dei clusters e dei parametri della GGM**"
      ]
    },
    {
      "cell_type": "code",
      "metadata": {
        "colab_type": "code",
        "id": "eR5RLqt9HEzp",
        "outputId": "4eeb0515-3a5f-4752-bf05-d2dcb8b1c574",
        "colab": {
          "base_uri": "https://localhost:8080/",
          "height": 592
        }
      },
      "source": [
        "def create_cluster_animation(X, history, scores):\n",
        "    fig, ax = plt.subplots(1, 1, figsize=(10, 10))\n",
        "    colorset = ['blue', 'red', 'black']\n",
        "    images = []\n",
        "    \n",
        "    for j, clusters in enumerate(history):\n",
        "      \n",
        "        idx = 0\n",
        "      \n",
        "        if j % 3 != 0:\n",
        "            continue\n",
        "        \n",
        "        plt.cla()\n",
        "        \n",
        "        for cluster in clusters:\n",
        "            mu = cluster['mu_k']\n",
        "            cov = cluster['cov_k']\n",
        "\n",
        "            eigenvalues, eigenvectors = np.linalg.eigh(cov)\n",
        "            order = eigenvalues.argsort()[::-1]\n",
        "            eigenvalues, eigenvectors = eigenvalues[order], eigenvectors[:, order]\n",
        "            vx, vy = eigenvectors[:,0][0], eigenvectors[:,0][1]\n",
        "            theta = np.arctan2(vy, vx)\n",
        "\n",
        "            color = colors.to_rgba(colorset[idx])\n",
        "\n",
        "            for cov_factor in range(1, 4):\n",
        "                ell = Ellipse(xy=mu, width=np.sqrt(eigenvalues[0]) * cov_factor * 2, height=np.sqrt(eigenvalues[1]) * cov_factor * 2, angle=np.degrees(theta), linewidth=2)\n",
        "                ell.set_facecolor((color[0], color[1], color[2], 1.0 / (cov_factor * 4.5)))\n",
        "                ax.add_artist(ell)\n",
        "\n",
        "            ax.scatter(cluster['mu_k'][0], cluster['mu_k'][1], c=colorset[idx], s=1000, marker='+')\n",
        "            idx += 1\n",
        "\n",
        "        for i in range(X.shape[0]):\n",
        "            ax.scatter(X[i, 0], X[i, 1], c=colorset[np.argmax(scores[i])], marker='o')\n",
        "        \n",
        "        fig.canvas.draw()\n",
        "        \n",
        "        image = np.frombuffer(fig.canvas.tostring_rgb(), dtype='uint8')\n",
        "        image = image.reshape(fig.canvas.get_width_height()[::-1] + (3,))\n",
        "\n",
        "        images.append(image)\n",
        "    \n",
        "    kwargs_write = {'fps':1.0, 'quantizer':'nq'}\n",
        "    imageio.mimsave('./gmm.gif', images, fps=1)\n",
        "    plt.show(Image.open('gmm.gif').convert('RGB'))\n",
        "    \n",
        "    \n",
        "create_cluster_animation(X, history, scores)"
      ],
      "execution_count": 0,
      "outputs": [
        {
          "output_type": "display_data",
          "data": {
            "image/png": "[encoded data removed]",
            "text/plain": [
              "<Figure size 720x720 with 1 Axes>"
            ]
          },
          "metadata": {
            "tags": [],
            "needs_background": "light"
          }
        }
      ]
    },
    {
      "cell_type": "markdown",
      "metadata": {
        "colab_type": "text",
        "id": "7YlS_QKKbvmJ"
      },
      "source": [
        "NOTA: aprendo il file __gmm.gif__  è possibile visulizzare un animazione di come la stima dei cluster migliori ad ogni iterazione."
      ]
    },
    {
      "cell_type": "markdown",
      "metadata": {
        "id": "3zggdygP7esj",
        "colab_type": "text"
      },
      "source": [
        "## Implementazione usando scikit-learn ##\n",
        "\n",
        "quella da usare in pratica ..."
      ]
    },
    {
      "cell_type": "code",
      "metadata": {
        "colab_type": "code",
        "id": "W5TLvNKQ8LX6",
        "outputId": "df548e77-e746-4af2-87f8-e2d875091193",
        "colab": {
          "base_uri": "https://localhost:8080/",
          "height": 323
        }
      },
      "source": [
        "from sklearn.mixture import GaussianMixture\n",
        "\n",
        "gmm = GaussianMixture(n_components=n_clusters, max_iter=50).fit(X)\n",
        "gmm_scores = gmm.score_samples(X)\n",
        "\n",
        "print('Means by sklearn:\\n', gmm.means_)\n",
        "print('Means by our implementation:\\n', np.array([cluster['mu_k'].tolist() for cluster in clusters]))\n",
        "print('Scores by sklearn:\\n', gmm_scores[0:20])\n",
        "print('Scores by our implementation:\\n', sample_likelihoods.reshape(-1)[0:20])"
      ],
      "execution_count": 0,
      "outputs": [
        {
          "output_type": "stream",
          "text": [
            "Means by sklearn:\n",
            " [[5.006      3.428      1.462      0.246     ]\n",
            " [5.91697517 2.77803998 4.20523542 1.29841561]\n",
            " [6.54632887 2.94943079 5.4834877  1.98716063]]\n",
            "Means by our implementation:\n",
            " [[6.54454865 2.94866115 5.47955343 1.98460495]\n",
            " [5.006      3.428      1.462      0.246     ]\n",
            " [5.91496959 2.77784365 4.20155323 1.29696685]]\n",
            "Scores by sklearn:\n",
            " [ 1.57050082  0.73787138  1.14436656  0.92913238  1.411028   -0.09451903\n",
            "  0.05266884  1.62442195  0.27082378  0.16706624  0.83489877  0.77168582\n",
            "  0.29597841 -1.79224582 -3.41557928 -2.10529279 -1.12995447  1.47503579\n",
            " -0.84612536  0.97699215]\n",
            "Scores by our implementation:\n",
            " [ 1.57057947  0.73793642  1.14444614  0.92920539  1.41110417 -0.09448868\n",
            "  0.05268031  1.62449505  0.27090462  0.16702226  0.83494742  0.77171947\n",
            "  0.29597776 -1.79222469 -3.41562626 -2.1052825  -1.1300608   1.47509939\n",
            " -0.84608424  0.9770596 ]\n"
          ],
          "name": "stdout"
        }
      ]
    },
    {
      "cell_type": "markdown",
      "metadata": {
        "id": "CWswV1Y9_tVm",
        "colab_type": "text"
      },
      "source": [
        "## Esercizi: ##\n",
        "\n",
        "* provare a cambiare il numero di cluster nella GMM da 1 a 10 ... la logLikelihood fornisce informazioni sul valore giusto del numeori di cluster (3)? \n",
        "\n",
        "* inizializzando la GMM con centroidi random invece che con i valori ottenuti da k-means si ottengono prestazioni altrettando buone?\n",
        "\n",
        "* come si ottengono predizione di classe e probabilità di classe per la GMM in scikit-learn? Dividete il campione in 80% trainign e 20% test, addestrate la GMM con il training set e predicete label di classe e probabilità di classe per gli eventi di test ... quale è l'accuracy ottenuta? "
      ]
    },
    {
      "cell_type": "markdown",
      "metadata": {
        "id": "0jMuXwx8e7uF",
        "colab_type": "text"
      },
      "source": [
        "#**GMM con numero dei clusters variabile**"
      ]
    },
    {
      "cell_type": "markdown",
      "metadata": {
        "id": "a_T-CRpB0OHg",
        "colab_type": "text"
      },
      "source": [
        "In questa fase vogliamo studiare le variazioni nella log-likelihood al variare del numero di clusters impostato per l'algoritmo. Ci poniamo come obiettivo il capire se la log-likelihood fornisca informazioni sul numero giusto dei clusters.\n",
        "\n",
        "Utilizziamo dunque l'algoritmo GMM implementato manualmente e grafichiamo la log-likelihood con un numero di clusters variabile da 1 a 10."
      ]
    },
    {
      "cell_type": "code",
      "metadata": {
        "id": "kRXREULee67_",
        "colab_type": "code",
        "outputId": "d3235f3c-7c1a-4c4c-dbd2-23ccb93a20c8",
        "colab": {
          "base_uri": "https://localhost:8080/",
          "height": 1000
        }
      },
      "source": [
        "clus = range(1,7,1)\n",
        "plt.figure(figsize=(7, 7))\n",
        "plt.title('Log-Likelihood')\n",
        "n_epochs = 50\n",
        "\n",
        "for cluster_index in clus:\n",
        "  clusters, likelihoods, scores, sample_likelihoods, history = train_gmm(X, cluster_index, n_epochs)\n",
        "  plt.plot(np.arange(1, n_epochs + 1), likelihoods)\n",
        "\n",
        "plt.legend()\n",
        "plt.show()"
      ],
      "execution_count": 0,
      "outputs": [
        {
          "output_type": "stream",
          "text": [
            "Epoch:  1 Likelihood:  -964.0117933921914\n",
            "Epoch:  2 Likelihood:  -379.9146301222695\n",
            "Epoch:  3 Likelihood:  -379.9146301222695\n",
            "Epoch:  4 Likelihood:  -379.9146301222695\n",
            "Epoch:  5 Likelihood:  -379.9146301222695\n",
            "Epoch:  6 Likelihood:  -379.9146301222695\n",
            "Epoch:  7 Likelihood:  -379.9146301222695\n",
            "Epoch:  8 Likelihood:  -379.9146301222695\n",
            "Epoch:  9 Likelihood:  -379.9146301222695\n",
            "Epoch:  10 Likelihood:  -379.9146301222695\n",
            "Epoch:  11 Likelihood:  -379.9146301222695\n",
            "Epoch:  12 Likelihood:  -379.9146301222695\n",
            "Epoch:  13 Likelihood:  -379.9146301222695\n",
            "Epoch:  14 Likelihood:  -379.9146301222695\n",
            "Epoch:  15 Likelihood:  -379.9146301222695\n",
            "Epoch:  16 Likelihood:  -379.9146301222695\n",
            "Epoch:  17 Likelihood:  -379.9146301222695\n",
            "Epoch:  18 Likelihood:  -379.9146301222695\n",
            "Epoch:  19 Likelihood:  -379.9146301222695\n",
            "Epoch:  20 Likelihood:  -379.9146301222695\n",
            "Epoch:  21 Likelihood:  -379.9146301222695\n",
            "Epoch:  22 Likelihood:  -379.9146301222695\n",
            "Epoch:  23 Likelihood:  -379.9146301222695\n",
            "Epoch:  24 Likelihood:  -379.9146301222695\n",
            "Epoch:  25 Likelihood:  -379.9146301222695\n",
            "Epoch:  26 Likelihood:  -379.9146301222695\n",
            "Epoch:  27 Likelihood:  -379.9146301222695\n",
            "Epoch:  28 Likelihood:  -379.9146301222695\n",
            "Epoch:  29 Likelihood:  -379.9146301222695\n",
            "Epoch:  30 Likelihood:  -379.9146301222695\n",
            "Epoch:  31 Likelihood:  -379.9146301222695\n",
            "Epoch:  32 Likelihood:  -379.9146301222695\n",
            "Epoch:  33 Likelihood:  -379.9146301222695\n",
            "Epoch:  34 Likelihood:  -379.9146301222695\n",
            "Epoch:  35 Likelihood:  -379.9146301222695\n",
            "Epoch:  36 Likelihood:  -379.9146301222695\n",
            "Epoch:  37 Likelihood:  -379.9146301222695\n",
            "Epoch:  38 Likelihood:  -379.9146301222695\n",
            "Epoch:  39 Likelihood:  -379.9146301222695\n",
            "Epoch:  40 Likelihood:  -379.9146301222695\n",
            "Epoch:  41 Likelihood:  -379.9146301222695\n",
            "Epoch:  42 Likelihood:  -379.9146301222695\n",
            "Epoch:  43 Likelihood:  -379.9146301222695\n",
            "Epoch:  44 Likelihood:  -379.9146301222695\n",
            "Epoch:  45 Likelihood:  -379.9146301222695\n",
            "Epoch:  46 Likelihood:  -379.9146301222695\n",
            "Epoch:  47 Likelihood:  -379.9146301222695\n",
            "Epoch:  48 Likelihood:  -379.9146301222695\n",
            "Epoch:  49 Likelihood:  -379.9146301222695\n",
            "Epoch:  50 Likelihood:  -379.9146301222695\n",
            "Epoch:  1 Likelihood:  -1500.3746492715513\n",
            "Epoch:  2 Likelihood:  -487.71466935603524\n",
            "Epoch:  3 Likelihood:  -428.7139959080664\n",
            "Epoch:  4 Likelihood:  -428.709408741052\n",
            "Epoch:  5 Likelihood:  -428.7094087410253\n",
            "Epoch:  6 Likelihood:  -428.70940874102496\n",
            "Epoch:  7 Likelihood:  -428.7094087410252\n",
            "Epoch:  8 Likelihood:  -428.7094087410251\n",
            "Epoch:  9 Likelihood:  -428.70940874102524\n",
            "Epoch:  10 Likelihood:  -428.70940874102524\n",
            "Epoch:  11 Likelihood:  -428.70940874102524\n",
            "Epoch:  12 Likelihood:  -428.70940874102524\n",
            "Epoch:  13 Likelihood:  -428.70940874102524\n",
            "Epoch:  14 Likelihood:  -428.70940874102524\n",
            "Epoch:  15 Likelihood:  -428.70940874102524\n",
            "Epoch:  16 Likelihood:  -428.70940874102524\n",
            "Epoch:  17 Likelihood:  -428.70940874102524\n",
            "Epoch:  18 Likelihood:  -428.70940874102524\n",
            "Epoch:  19 Likelihood:  -428.70940874102524\n",
            "Epoch:  20 Likelihood:  -428.70940874102524\n",
            "Epoch:  21 Likelihood:  -428.70940874102524\n",
            "Epoch:  22 Likelihood:  -428.70940874102524\n",
            "Epoch:  23 Likelihood:  -428.70940874102524\n",
            "Epoch:  24 Likelihood:  -428.70940874102524\n",
            "Epoch:  25 Likelihood:  -428.70940874102524\n",
            "Epoch:  26 Likelihood:  -428.70940874102524\n",
            "Epoch:  27 Likelihood:  -428.70940874102524\n",
            "Epoch:  28 Likelihood:  -428.70940874102524\n",
            "Epoch:  29 Likelihood:  -428.70940874102524\n",
            "Epoch:  30 Likelihood:  -428.70940874102524\n",
            "Epoch:  31 Likelihood:  -428.70940874102524\n",
            "Epoch:  32 Likelihood:  -428.70940874102524\n",
            "Epoch:  33 Likelihood:  -428.70940874102524\n",
            "Epoch:  34 Likelihood:  -428.70940874102524\n",
            "Epoch:  35 Likelihood:  -428.70940874102524\n",
            "Epoch:  36 Likelihood:  -428.70940874102524\n",
            "Epoch:  37 Likelihood:  -428.70940874102524\n",
            "Epoch:  38 Likelihood:  -428.70940874102524\n",
            "Epoch:  39 Likelihood:  -428.70940874102524\n",
            "Epoch:  40 Likelihood:  -428.70940874102524\n",
            "Epoch:  41 Likelihood:  -428.70940874102524\n",
            "Epoch:  42 Likelihood:  -428.70940874102524\n",
            "Epoch:  43 Likelihood:  -428.70940874102524\n",
            "Epoch:  44 Likelihood:  -428.70940874102524\n",
            "Epoch:  45 Likelihood:  -428.70940874102524\n",
            "Epoch:  46 Likelihood:  -428.70940874102524\n",
            "Epoch:  47 Likelihood:  -428.70940874102524\n",
            "Epoch:  48 Likelihood:  -428.70940874102524\n",
            "Epoch:  49 Likelihood:  -428.70940874102524\n",
            "Epoch:  50 Likelihood:  -428.70940874102524\n",
            "Epoch:  1 Likelihood:  -2225.924002139432\n",
            "Epoch:  2 Likelihood:  -682.3719331478824\n",
            "Epoch:  3 Likelihood:  -615.5399983100331\n",
            "Epoch:  4 Likelihood:  -603.5167673060159\n",
            "Epoch:  5 Likelihood:  -592.3472574826011\n",
            "Epoch:  6 Likelihood:  -579.5102850764449\n",
            "Epoch:  7 Likelihood:  -564.4559822595767\n",
            "Epoch:  8 Likelihood:  -551.0652284683197\n",
            "Epoch:  9 Likelihood:  -543.8776729703206\n",
            "Epoch:  10 Likelihood:  -541.3302696194792\n",
            "Epoch:  11 Likelihood:  -540.7366260600465\n",
            "Epoch:  12 Likelihood:  -540.6065484509072\n",
            "Epoch:  13 Likelihood:  -540.5715373513838\n",
            "Epoch:  14 Likelihood:  -540.5611329414565\n",
            "Epoch:  15 Likelihood:  -540.5579157010783\n",
            "Epoch:  16 Likelihood:  -540.5569031059825\n",
            "Epoch:  17 Likelihood:  -540.5565817740737\n",
            "Epoch:  18 Likelihood:  -540.556479407298\n",
            "Epoch:  19 Likelihood:  -540.5564467351119\n",
            "Epoch:  20 Likelihood:  -540.5564362975705\n",
            "Epoch:  21 Likelihood:  -540.5564329616195\n",
            "Epoch:  22 Likelihood:  -540.5564318951606\n",
            "Epoch:  23 Likelihood:  -540.5564315541858\n",
            "Epoch:  24 Likelihood:  -540.55643144516\n",
            "Epoch:  25 Likelihood:  -540.5564314102984\n",
            "Epoch:  26 Likelihood:  -540.5564313991507\n",
            "Epoch:  27 Likelihood:  -540.5564313955861\n",
            "Epoch:  28 Likelihood:  -540.5564313944461\n",
            "Epoch:  29 Likelihood:  -540.5564313940818\n",
            "Epoch:  30 Likelihood:  -540.5564313939652\n",
            "Epoch:  31 Likelihood:  -540.5564313939282\n",
            "Epoch:  32 Likelihood:  -540.556431393916\n",
            "Epoch:  33 Likelihood:  -540.5564313939121\n",
            "Epoch:  34 Likelihood:  -540.5564313939108\n",
            "Epoch:  35 Likelihood:  -540.5564313939104\n",
            "Epoch:  36 Likelihood:  -540.5564313939104\n",
            "Epoch:  37 Likelihood:  -540.5564313939105\n",
            "Epoch:  38 Likelihood:  -540.5564313939103\n",
            "Epoch:  39 Likelihood:  -540.5564313939102\n",
            "Epoch:  40 Likelihood:  -540.5564313939101\n",
            "Epoch:  41 Likelihood:  -540.5564313939101\n",
            "Epoch:  42 Likelihood:  -540.5564313939103\n",
            "Epoch:  43 Likelihood:  -540.5564313939102\n",
            "Epoch:  44 Likelihood:  -540.5564313939103\n",
            "Epoch:  45 Likelihood:  -540.5564313939102\n",
            "Epoch:  46 Likelihood:  -540.5564313939102\n",
            "Epoch:  47 Likelihood:  -540.5564313939104\n",
            "Epoch:  48 Likelihood:  -540.5564313939103\n",
            "Epoch:  49 Likelihood:  -540.5564313939103\n",
            "Epoch:  50 Likelihood:  -540.5564313939103\n",
            "Epoch:  1 Likelihood:  -2976.4411501079694\n",
            "Epoch:  2 Likelihood:  -874.0403778321665\n",
            "Epoch:  3 Likelihood:  -773.5007431395311\n",
            "Epoch:  4 Likelihood:  -752.4668951863943\n",
            "Epoch:  5 Likelihood:  -735.6702006078211\n",
            "Epoch:  6 Likelihood:  -720.3967581200197\n",
            "Epoch:  7 Likelihood:  -705.8125422613414\n",
            "Epoch:  8 Likelihood:  -694.2943198925426\n",
            "Epoch:  9 Likelihood:  -685.123172330273\n",
            "Epoch:  10 Likelihood:  -676.0720922153328\n",
            "Epoch:  11 Likelihood:  -670.4091309225719\n",
            "Epoch:  12 Likelihood:  -665.5273768159077\n",
            "Epoch:  13 Likelihood:  -660.7044950298573\n",
            "Epoch:  14 Likelihood:  -657.7131335466065\n",
            "Epoch:  15 Likelihood:  -656.4045705498618\n",
            "Epoch:  16 Likelihood:  -655.8038126147333\n",
            "Epoch:  17 Likelihood:  -655.4732435805038\n",
            "Epoch:  18 Likelihood:  -655.26563889887\n",
            "Epoch:  19 Likelihood:  -655.126855203051\n",
            "Epoch:  20 Likelihood:  -655.0319659690053\n",
            "Epoch:  21 Likelihood:  -654.9666477604102\n",
            "Epoch:  22 Likelihood:  -654.9215548823299\n",
            "Epoch:  23 Likelihood:  -654.8903061333876\n",
            "Epoch:  24 Likelihood:  -654.8685122791072\n",
            "Epoch:  25 Likelihood:  -654.8531701242357\n",
            "Epoch:  26 Likelihood:  -654.8422401009433\n",
            "Epoch:  27 Likelihood:  -654.834344777799\n",
            "Epoch:  28 Likelihood:  -654.8285558510897\n",
            "Epoch:  29 Likelihood:  -654.8242465219689\n",
            "Epoch:  30 Likelihood:  -654.8209911159332\n",
            "Epoch:  31 Likelihood:  -654.8184978639861\n",
            "Epoch:  32 Likelihood:  -654.8165643607219\n",
            "Epoch:  33 Likelihood:  -654.8150482127203\n",
            "Epoch:  34 Likelihood:  -654.8138477142688\n",
            "Epoch:  35 Likelihood:  -654.8128890828978\n",
            "Epoch:  36 Likelihood:  -654.8121179694542\n",
            "Epoch:  37 Likelihood:  -654.8114937549674\n",
            "Epoch:  38 Likelihood:  -654.8109856722988\n",
            "Epoch:  39 Likelihood:  -654.81057013176\n",
            "Epoch:  40 Likelihood:  -654.8102288492869\n",
            "Epoch:  41 Likelihood:  -654.8099475162282\n",
            "Epoch:  42 Likelihood:  -654.8097148397142\n",
            "Epoch:  43 Likelihood:  -654.8095218403153\n",
            "Epoch:  44 Likelihood:  -654.8093613310239\n",
            "Epoch:  45 Likelihood:  -654.8092275259221\n",
            "Epoch:  46 Likelihood:  -654.809115742914\n",
            "Epoch:  47 Likelihood:  -654.8090221756192\n",
            "Epoch:  48 Likelihood:  -654.8089437167346\n",
            "Epoch:  49 Likelihood:  -654.8088778201372\n",
            "Epoch:  50 Likelihood:  -654.8088223924456\n",
            "Epoch:  1 Likelihood:  -3758.883277190151\n",
            "Epoch:  2 Likelihood:  -1130.7726306775228\n",
            "Epoch:  3 Likelihood:  -952.4377241931451\n",
            "Epoch:  4 Likelihood:  -911.609461671252\n",
            "Epoch:  5 Likelihood:  -867.4472312935327\n",
            "Epoch:  6 Likelihood:  -829.6802096604132\n",
            "Epoch:  7 Likelihood:  -809.7065577930857\n",
            "Epoch:  8 Likelihood:  -797.3206920597129\n",
            "Epoch:  9 Likelihood:  -784.6252657683491\n",
            "Epoch:  10 Likelihood:  -773.1639890335989\n",
            "Epoch:  11 Likelihood:  -766.6480086287839\n",
            "Epoch:  12 Likelihood:  -761.0394945275129\n",
            "Epoch:  13 Likelihood:  -755.0747539861968\n",
            "Epoch:  14 Likelihood:  -748.8964285834295\n",
            "Epoch:  15 Likelihood:  -744.6466294275205\n",
            "Epoch:  16 Likelihood:  -742.5170312946004\n",
            "Epoch:  17 Likelihood:  -741.3061576612808\n",
            "Epoch:  18 Likelihood:  -740.5208038897662\n",
            "Epoch:  19 Likelihood:  -740.0157616156291\n",
            "Epoch:  20 Likelihood:  -739.7066977300742\n",
            "Epoch:  21 Likelihood:  -739.522058381455\n",
            "Epoch:  22 Likelihood:  -739.4087038139877\n",
            "Epoch:  23 Likelihood:  -739.3333888299744\n",
            "Epoch:  24 Likelihood:  -739.2775887835944\n",
            "Epoch:  25 Likelihood:  -739.2317478218409\n",
            "Epoch:  26 Likelihood:  -739.1913698663793\n",
            "Epoch:  27 Likelihood:  -739.1547766667602\n",
            "Epoch:  28 Likelihood:  -739.1218149695646\n",
            "Epoch:  29 Likelihood:  -739.093004101464\n",
            "Epoch:  30 Likelihood:  -739.0689157703096\n",
            "Epoch:  31 Likelihood:  -739.0497766736078\n",
            "Epoch:  32 Likelihood:  -739.0353306207128\n",
            "Epoch:  33 Likelihood:  -739.0249272903558\n",
            "Epoch:  34 Likelihood:  -739.0177250067818\n",
            "Epoch:  35 Likelihood:  -739.0128861644966\n",
            "Epoch:  36 Likelihood:  -739.0096986719321\n",
            "Epoch:  37 Likelihood:  -739.0076184526499\n",
            "Epoch:  38 Likelihood:  -739.0062598694183\n",
            "Epoch:  39 Likelihood:  -739.0053636235393\n",
            "Epoch:  40 Likelihood:  -739.0047615339467\n",
            "Epoch:  41 Likelihood:  -739.004347008238\n",
            "Epoch:  42 Likelihood:  -739.0040533421984\n",
            "Epoch:  43 Likelihood:  -739.0038389608223\n",
            "Epoch:  44 Likelihood:  -739.0036778576113\n",
            "Epoch:  45 Likelihood:  -739.0035535912551\n",
            "Epoch:  46 Likelihood:  -739.0034555887414\n",
            "Epoch:  47 Likelihood:  -739.0033768940285\n",
            "Epoch:  48 Likelihood:  -739.003312803575\n",
            "Epoch:  49 Likelihood:  -739.0032600389931\n",
            "Epoch:  50 Likelihood:  -739.0032162427583\n"
          ],
          "name": "stdout"
        },
        {
          "output_type": "stream",
          "text": [
            "/usr/local/lib/python3.6/dist-packages/ipykernel_launcher.py:28: RuntimeWarning: divide by zero encountered in log\n"
          ],
          "name": "stderr"
        },
        {
          "output_type": "stream",
          "text": [
            "Epoch:  1 Likelihood:  -4440.581116947493\n",
            "Epoch:  2 Likelihood:  -1354.775617733792\n",
            "Epoch:  3 Likelihood:  -1141.5756441155866\n",
            "Epoch:  4 Likelihood:  -1079.3272063727684\n",
            "Epoch:  5 Likelihood:  -1013.5505880536825\n",
            "Epoch:  6 Likelihood:  -952.1695324873547\n",
            "Epoch:  7 Likelihood:  -909.7995481752259\n",
            "Epoch:  8 Likelihood:  -883.5767178014391\n",
            "Epoch:  9 Likelihood:  -864.4615919095459\n",
            "Epoch:  10 Likelihood:  -842.2350306836645\n",
            "Epoch:  11 Likelihood:  -825.8887844507694\n",
            "Epoch:  12 Likelihood:  -820.674833795035\n",
            "Epoch:  13 Likelihood:  -817.3317842901445\n",
            "Epoch:  14 Likelihood:  -814.6259001393219\n",
            "Epoch:  15 Likelihood:  -812.3826273737823\n",
            "Epoch:  16 Likelihood:  -810.5406889864801\n",
            "Epoch:  17 Likelihood:  -809.0944013466005\n",
            "Epoch:  18 Likelihood:  -808.02850087772\n",
            "Epoch:  19 Likelihood:  -807.2874038515677\n",
            "Epoch:  20 Likelihood:  -806.7831433188971\n",
            "Epoch:  21 Likelihood:  -806.4295202592743\n",
            "Epoch:  22 Likelihood:  -806.1655738516805\n",
            "Epoch:  23 Likelihood:  -805.9560522508876\n",
            "Epoch:  24 Likelihood:  -805.7821586359786\n",
            "Epoch:  25 Likelihood:  -805.6336323968319\n",
            "Epoch:  26 Likelihood:  -805.5044792371\n",
            "Epoch:  27 Likelihood:  -805.3911030638039\n",
            "Epoch:  28 Likelihood:  -805.2914504160957\n",
            "Epoch:  29 Likelihood:  -805.204414916341\n",
            "Epoch:  30 Likelihood:  -805.1292729188655\n",
            "Epoch:  31 Likelihood:  -805.0652100519187\n",
            "Epoch:  32 Likelihood:  -805.0110695858195\n",
            "Epoch:  33 Likelihood:  -804.9653635947943\n",
            "Epoch:  34 Likelihood:  -804.9264576602617\n",
            "Epoch:  35 Likelihood:  -804.8927865526003\n",
            "Epoch:  36 Likelihood:  -804.8630009097402\n",
            "Epoch:  37 Likelihood:  -804.8360202546677\n",
            "Epoch:  38 Likelihood:  -804.8110170354091\n",
            "Epoch:  39 Likelihood:  -804.787367851895\n",
            "Epoch:  40 Likelihood:  -804.7645984089022\n",
            "Epoch:  41 Likelihood:  -804.7423353255338\n",
            "Epoch:  42 Likelihood:  -804.7202685018672\n",
            "Epoch:  43 Likelihood:  -804.6981230707711\n",
            "Epoch:  44 Likelihood:  -804.6756383971989\n",
            "Epoch:  45 Likelihood:  -804.6525514920759\n",
            "Epoch:  46 Likelihood:  -804.6285825871817\n",
            "Epoch:  47 Likelihood:  -804.6034210038656\n"
          ],
          "name": "stdout"
        },
        {
          "output_type": "stream",
          "text": [
            "/usr/local/lib/python3.6/dist-packages/ipykernel_launcher.py:28: RuntimeWarning: divide by zero encountered in log\n",
            "No handles with labels found to put in legend.\n"
          ],
          "name": "stderr"
        },
        {
          "output_type": "stream",
          "text": [
            "Epoch:  48 Likelihood:  -804.5767096665782\n",
            "Epoch:  49 Likelihood:  -804.5480266087951\n",
            "Epoch:  50 Likelihood:  -804.516861570756\n"
          ],
          "name": "stdout"
        },
        {
          "output_type": "display_data",
          "data": {
            "image/png": "[encoded data removed]",
            "text/plain": [
              "<Figure size 504x504 with 1 Axes>"
            ]
          },
          "metadata": {
            "tags": [],
            "needs_background": "light"
          }
        }
      ]
    },
    {
      "cell_type": "markdown",
      "metadata": {
        "id": "MXu-EeYu1Js4",
        "colab_type": "text"
      },
      "source": [
        "Osserviamo che la log-likelihood non dà alcuna indicazione sul numero di clusters. L'unico cambiamento apprezzabile, infatti, è nell'abbassamento del plateau della curva al crescere del numero di clusters."
      ]
    },
    {
      "cell_type": "markdown",
      "metadata": {
        "id": "OdVJf3uL0TOg",
        "colab_type": "text"
      },
      "source": [
        "#**Inizializzazione con centroidi casuali**"
      ]
    },
    {
      "cell_type": "markdown",
      "metadata": {
        "id": "A8RgWai-17sS",
        "colab_type": "text"
      },
      "source": [
        "Passiamo ora allo studio della dipendenza della performance dell'algoritmo dalla posizione dei centroidi di partenza. Confrontiamo quindi i risultati ottenuti dall'algoritmo (implementato tramite la libreria scikit-learn) utilizzando dei centroidi casuali in un caso e quelli individuati da K-means nell'altro."
      ]
    },
    {
      "cell_type": "code",
      "metadata": {
        "id": "qAa1SsrJ9vXp",
        "colab_type": "code",
        "outputId": "e76eb9b9-38cc-4749-ca35-7a0c738ac0f7",
        "colab": {
          "base_uri": "https://localhost:8080/",
          "height": 336
        }
      },
      "source": [
        "from sklearn.mixture import GaussianMixture\n",
        "from sklearn import metrics\n",
        "import matplotlib.pyplot as plt\n",
        "\n",
        "plt.figure(figsize=(12,5))\n",
        "\n",
        "gmm = GaussianMixture(n_components=n_clusters, max_iter=50, init_params='random')\n",
        "gmm.fit(X)\n",
        "gmm_scores = gmm.score_samples(X)\n",
        "gmm_predictions = gmm.predict(X)\n",
        "\n",
        "gmmk = GaussianMixture(n_components=n_clusters, max_iter=50, init_params='kmeans').fit(X)\n",
        "gmmk_scores = gmmk.score_samples(X)\n",
        "gmmk_predictions = gmmk.predict(X)\n",
        "\n",
        "ax1 = plt.subplot(1,2,1)\n",
        "ax1 = plt.title('Random')\n",
        "ax1 = plt.scatter(X[:,0], X[:,1], s=10, c=gmm_predictions, cmap='tab20')\n",
        "\n",
        "ax2 = plt.subplot(1,2,2)\n",
        "ax2 = plt.title('Kmeans')\n",
        "ax2 = plt.scatter(X[:,0], X[:,1], s=10, c=gmmk_predictions, cmap='tab20')\n"
      ],
      "execution_count": 0,
      "outputs": [
        {
          "output_type": "display_data",
          "data": {
            "image/png": "[encoded data removed]",
            "text/plain": [
              "<Figure size 864x360 with 2 Axes>"
            ]
          },
          "metadata": {
            "tags": [],
            "needs_background": "light"
          }
        }
      ]
    },
    {
      "cell_type": "code",
      "metadata": {
        "id": "yIbN7n6n2z4E",
        "colab_type": "code",
        "outputId": "1e3f05a9-ec27-4e19-b6b9-193f390e0c0f",
        "colab": {
          "base_uri": "https://localhost:8080/",
          "height": 51
        }
      },
      "source": [
        "Y = iris.target\n",
        "\n",
        "k_means_acc = metrics.adjusted_rand_score(Y, gmmk_predictions)\n",
        "random_acc = metrics.adjusted_rand_score(Y, gmm_predictions)\n",
        "print (\"Accuracy with k-means centroids: %.4f\"%k_means_acc, \"\\nAccuracy with random centroids: %.4f\"%random_acc)"
      ],
      "execution_count": 0,
      "outputs": [
        {
          "output_type": "stream",
          "text": [
            "Accuracy with k-means centroids: 0.9039 \n",
            "Accuracy with random centroids: 0.5688\n"
          ],
          "name": "stdout"
        }
      ]
    },
    {
      "cell_type": "markdown",
      "metadata": {
        "id": "Nw7-IXkN4NPg",
        "colab_type": "text"
      },
      "source": [
        "Come prevedibile, se iteriamo più volte l'algoritmo, osserviamo che l'accuracy relativa all'algoritmo inizializzato con centroidi casuali è molto variabile. Non abbiamo modo di prevedere se il risultato sarà migliore di quello ottenuto con dei centroidi iniziali selezionati da K-means, che comunque è già di qualità elevata. Concludiamo allora che l'utilizzo di un'inizializzazione non casuale, ma scelta attraverso K-means, sia preferibile, in quanto garantisce un'accuracy alta e stabile."
      ]
    },
    {
      "cell_type": "markdown",
      "metadata": {
        "id": "sn0KBjdAAdOE",
        "colab_type": "text"
      },
      "source": [
        "#**Predizione e probabilità di classe in SciKitLearn**"
      ]
    },
    {
      "cell_type": "markdown",
      "metadata": {
        "id": "XbYw9Ky85tP_",
        "colab_type": "text"
      },
      "source": [
        "Come ultimo studio ci proponiamo di addestrare la GMM implementata tramite scikit-learn per predire le label e le probabilità di classe di un campione di test."
      ]
    },
    {
      "cell_type": "code",
      "metadata": {
        "id": "ZF545Rz-BMj-",
        "colab_type": "code",
        "colab": {}
      },
      "source": [
        "from sklearn.model_selection import train_test_split\n",
        "import pandas as pd\n",
        "train_to_test_ratio=0.8 # training samples\n",
        "n_clusters=3\n",
        "\n",
        "X = iris.data\n",
        "Y = iris.target"
      ],
      "execution_count": 0,
      "outputs": []
    },
    {
      "cell_type": "code",
      "metadata": {
        "id": "6AQMTqtHDLiL",
        "colab_type": "code",
        "colab": {}
      },
      "source": [
        "x_train,x_test,y_train,y_test=train_test_split(X,Y,train_size=train_to_test_ratio,test_size=1.0-train_to_test_ratio)\n",
        "gmm = GaussianMixture(n_components=n_clusters, max_iter=50, init_params='kmeans')\n",
        "gmm.fit(x_train)\n",
        "gmm_scores = gmm.score_samples(x_train)\n",
        "\n",
        "gmm_pred_train = gmm.predict(x_train)\n",
        "\n",
        "gmm_pred_test = gmm.predict(x_test)\n",
        "\n",
        "data=pd.DataFrame(x_train)\n",
        "data['true labels']=y_train\n",
        "data['predicted labels']=gmm_pred_train\n",
        "\n",
        "data_test=pd.DataFrame(x_test)\n",
        "data_test['true labels']=y_test\n",
        "data_test['predicted labels']=gmm_pred_test\n"
      ],
      "execution_count": 0,
      "outputs": []
    },
    {
      "cell_type": "code",
      "metadata": {
        "id": "yiav4ne_6bP-",
        "colab_type": "code",
        "outputId": "61c5675f-20a7-4e8c-a998-27bd1e5a83c2",
        "colab": {
          "base_uri": "https://localhost:8080/",
          "height": 607
        }
      },
      "source": [
        "plt.close()\n",
        "\n",
        "plt.figure(figsize=(10,10))\n",
        "ax1 = plt.subplot(2, 2, 1)\n",
        "ax1 = plt.title('Real clusters: Train set')\n",
        "ax1 = plt.scatter(x_train[:, 0], x_train[:, 1], s=10, c=y_train,cmap = 'tab20')\n",
        "ax2 = plt.subplot(2, 2, 2)\n",
        "ax2 = plt.title('Predicted clusters: Train set')\n",
        "ax2 = plt.scatter(x_train[:, 0], x_train[:, 1], s=10, c=gmm_pred_train,cmap = 'tab20')\n",
        "ax3 = plt.subplot(2, 2, 3)\n",
        "ax3 = plt.title('Real clusters: Test set')\n",
        "ax3 = plt.scatter(x_test[:, 0], x_test[:, 1], s=10, c=y_test,cmap = 'tab20')\n",
        "ax4 = plt.subplot(2, 2, 4)\n",
        "ax4 = plt.title('Predicted clusters: Test set')\n",
        "ax4 = plt.scatter(x_test[:, 0], x_test[:, 1], s=10, c=gmm_pred_test,cmap = 'tab20')\n",
        "\n",
        "plt.show()"
      ],
      "execution_count": 0,
      "outputs": [
        {
          "output_type": "display_data",
          "data": {
            "image/png": "[encoded data removed]",
            "text/plain": [
              "<Figure size 720x720 with 4 Axes>"
            ]
          },
          "metadata": {
            "tags": [],
            "needs_background": "light"
          }
        }
      ]
    },
    {
      "cell_type": "code",
      "metadata": {
        "id": "IlwmngMn7P41",
        "colab_type": "code",
        "outputId": "64f08a8e-14b6-4cbd-ea3b-5789cecddb62",
        "colab": {
          "base_uri": "https://localhost:8080/",
          "height": 51
        }
      },
      "source": [
        "train_acc = metrics.adjusted_rand_score(y_train, gmm_pred_train)\n",
        "test_acc = metrics.adjusted_rand_score(y_test, gmm_pred_test)\n",
        "print (\"Accuracy on the train set: %.4f\"%train_acc, \"\\nAccuracy on the test set: %.4f\"%test_acc)"
      ],
      "execution_count": 0,
      "outputs": [
        {
          "output_type": "stream",
          "text": [
            "Accuracy on the train set: 0.9062 \n",
            "Accuracy on the test set: 0.8888\n"
          ],
          "name": "stdout"
        }
      ]
    },
    {
      "cell_type": "markdown",
      "metadata": {
        "id": "2wjsCijR7yV9",
        "colab_type": "text"
      },
      "source": [
        "Osserviamo che i clusters ottenuti rispecchiano bene quelli reali. A conferma di ciò, le accuracies ottenute per i campioni di training e di test sono molto elevate. Sebbene l'utilizzo di un dataset di dimensioni modeste possa influire sui risultati ottenuti, possiamo ritenerci soddisfatti delle prestazioni dell'algoritmo.\n",
        "\n",
        "Concludiamo riportando le probabilità di classe ottenute con l'algoritmo."
      ]
    },
    {
      "cell_type": "code",
      "metadata": {
        "id": "pc2XBY4A9nM_",
        "colab_type": "code",
        "outputId": "276e49c9-112a-49ae-f204-6c55b226207b",
        "colab": {
          "base_uri": "https://localhost:8080/",
          "height": 238
        }
      },
      "source": [
        "#Mostriamo solo gli ultimi 5 eventi, a scopo illustrativo\n",
        "gmm_pred_probs_train = gmm.predict_proba(x_train)\n",
        "gmm_pred_probs_test = gmm.predict_proba(x_test)\n",
        "print(\"Probability for each cluster, train set:\\n\",gmm_pred_probs_train[-5:],\"\\n\\nProbability for each cluster, test set:\\n\",gmm_pred_probs_test[-5:])\n"
      ],
      "execution_count": 0,
      "outputs": [
        {
          "output_type": "stream",
          "text": [
            "Probability for each cluster, train set:\n",
            " [[1.00000000e+000 4.51464558e-116 6.63445827e-014]\n",
            " [1.66059621e-003 8.01766120e-077 9.98339404e-001]\n",
            " [1.32379264e-039 1.00000000e+000 2.27147413e-041]\n",
            " [3.30883604e-005 1.75397281e-040 9.99966912e-001]\n",
            " [1.54224546e-002 2.21565831e-065 9.84577545e-001]] \n",
            "\n",
            "Probability for each cluster, test set:\n",
            " [[1.89046185e-39 1.00000000e+00 3.72181784e-39]\n",
            " [9.61571382e-06 2.88283719e-36 9.99990384e-01]\n",
            " [1.08729231e-02 1.67362127e-71 9.89127077e-01]\n",
            " [1.93672317e-02 8.31523728e-61 9.80632768e-01]\n",
            " [4.63071162e-01 2.08880897e-87 5.36928838e-01]]\n"
          ],
          "name": "stdout"
        }
      ]
    }
  ]
}