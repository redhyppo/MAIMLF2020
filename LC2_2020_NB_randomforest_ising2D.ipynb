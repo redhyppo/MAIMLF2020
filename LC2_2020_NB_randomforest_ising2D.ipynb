{
  "nbformat": 4,
  "nbformat_minor": 0,
  "metadata": {
    "anaconda-cloud": {},
    "kernelspec": {
      "display_name": "Python 3",
      "language": "python",
      "name": "python3"
    },
    "language_info": {
      "codemirror_mode": {
        "name": "ipython",
        "version": 3
      },
      "file_extension": ".py",
      "mimetype": "text/x-python",
      "name": "python",
      "nbconvert_exporter": "python",
      "pygments_lexer": "ipython3",
      "version": "3.5.2"
    },
    "colab": {
      "name": "NB_randomforest_ising2D_LC2_2020.ipynb",
      "provenance": [],
      "collapsed_sections": [],
      "toc_visible": true,
      "include_colab_link": true
    }
  },
  "cells": [
    {
      "cell_type": "markdown",
      "metadata": {
        "id": "view-in-github",
        "colab_type": "text"
      },
      "source": [
        "<a href=\"https://colab.research.google.com/github/redhyppo/MAIMLF2020/blob/master/LC2_2020_NB_randomforest_ising2D.ipynb\" target=\"_parent\"><img src=\"https://colab.research.google.com/assets/colab-badge.svg\" alt=\"Open In Colab\"/></a>"
      ]
    },
    {
      "cell_type": "markdown",
      "metadata": {
        "id": "EGRt2VfXsBRl",
        "colab_type": "text"
      },
      "source": [
        "# Classificazione stato di un modello di Ising 2D con Random Forests"
      ]
    },
    {
      "cell_type": "code",
      "metadata": {
        "id": "30WstVVD1cLP",
        "colab_type": "code",
        "outputId": "91030f2e-2773-4977-d3f5-a6819780f360",
        "colab": {
          "base_uri": "https://localhost:8080/",
          "height": 54
        }
      },
      "source": [
        "from google.colab import drive\n",
        "drive.mount('/content/drive')"
      ],
      "execution_count": 0,
      "outputs": [
        {
          "output_type": "stream",
          "text": [
            "Drive already mounted at /content/drive; to attempt to forcibly remount, call drive.mount(\"/content/drive\", force_remount=True).\n"
          ],
          "name": "stdout"
        }
      ]
    },
    {
      "cell_type": "markdown",
      "metadata": {
        "id": "UmiJY2e0sBRn",
        "colab_type": "text"
      },
      "source": [
        "### Informazioni ###\n",
        "\n",
        "scopo: imparare ad usare ensamble di modelli deboli tipo foreste random di alberi a decisione binaria \n",
        "applicazione: classificazione dello fase in cui si trovano configurazioni d i un modello di Ising 2D\n",
        "ML tool: cikit-learn\n",
        "\n",
        "\n",
        "### Modello di Ising 2D ###\n",
        "\n",
        "dettagli (definizione teorica e simulazione) nella [nota](https://vixra.org/pdf/1710.0021v2.pdf).\n",
        "\n",
        "È definito su un reticolo bidimensionale dall'Hamiltoniana \n",
        "\n",
        "$$ H = -J\\sum_{\\langle ij\\rangle}S_{i}S_j,\\qquad \\qquad S_j\\in\\{\\pm 1\\} $$\n",
        "\n",
        "in cui gli indici del reticolo $i,j$ sono associati ai primi vicini di un reticolo 2D quadrato di lato $L$, e $J$ è un parametro di scala arbitrario che definisce la scala dell'energia di interazione tra gli spin $S_i$.\n",
        "Si utilizzano condizioni periodiche al contorno sul reticolo.\n",
        "\n",
        "Si dimostra che questo sistema presenta una transizione di fase nel limite termodinamico da un sistea ordinato con tutti gli spin allineati (ferromagnete ordinato) a una fase disordinata con spin random, alla temperatura critica $T_c/J=1/\\log(1+\\sqrt{2})\\approx 2.26$. \n",
        "\n",
        "\n",
        "**Dataset:**\n",
        "\n",
        "100k configurazioni con $T/J$ uniforme in $[0,5]$ di un modello ising 2D su un reticolo $28\\times 28$ simulato tramite un semplice Monte Carlo tipo Metropolis. \n",
        "\n",
        "Il campione è disponibile qui:\n",
        "\n",
        "* [configurazioni](https://www.dropbox.com/s/ma1n1r2uejb9iei/ising_conf.dat?dl=0)\n",
        "* [label](https://www.dropbox.com/s/dj1urxh8tsadoh5/ising_label.dat?dl=0)\n",
        "\n",
        "NOTA: le configurazioni sono 28x28 valori dello spin, le label sono la temperatura associata ad ogni configurazione.\n",
        "\n",
        "Poiché è noto che vicino alla temepratura critica $T_c$, la lunghezza delle correlazioni ferromagnetiche diverge, rendendo difficile identificare la fase, dvideremo il campione in tre sotto-campioni:\n",
        "\n",
        "* ordinato: $T/J<2.0$\n",
        "* critico: $2.0\\leq T/J\\leq 2.5$\n",
        "* disordinato: $T/J>2.5$\n",
        "\n",
        "e addestreremo il modello usando solo le configurazioni ordinate e disordinate. Poi testeremo il tutto su tutte le configurazioni."
      ]
    },
    {
      "cell_type": "markdown",
      "metadata": {
        "id": "Cx1fqjsbsBRo",
        "colab_type": "text"
      },
      "source": [
        "### Parte 1: load e pre-processamento del dataset ###"
      ]
    },
    {
      "cell_type": "code",
      "metadata": {
        "id": "zgM3io6PsBRp",
        "colab_type": "code",
        "colab": {}
      },
      "source": [
        "import numpy as np\n",
        "\n",
        "np.random.seed() # shuffle random seed generator\n",
        "\n",
        "# Ising model parameters\n",
        "L=28 # size del reticolo\n",
        "J=1.0 # Ising interaction (1 ferromagnetico, -1 anti-ferromagnetico)\n",
        "T_c=2.26 # Temperatura critica"
      ],
      "execution_count": 0,
      "outputs": []
    },
    {
      "cell_type": "code",
      "metadata": {
        "id": "q4FweP6jsBRt",
        "colab_type": "code",
        "outputId": "d329b9dc-192a-4da4-8524-9680dbb1c0e0",
        "colab": {
          "base_uri": "https://localhost:8080/",
          "height": 34
        }
      },
      "source": [
        "#leggiamo le configurazioni ising dal file usando numpy (100k esempi oguno da 28x28 spin)\n",
        "data = np.loadtxt('/content/drive/My Drive/Colab Notebooks/datasets/ising_conf.dat')\n",
        "print(data.shape)"
      ],
      "execution_count": 0,
      "outputs": [
        {
          "output_type": "stream",
          "text": [
            "(2800000, 28)\n"
          ],
          "name": "stdout"
        }
      ]
    },
    {
      "cell_type": "markdown",
      "metadata": {
        "id": "qX4iVO4msBRy",
        "colab_type": "text"
      },
      "source": [
        "NOTA: gli esempi sono scritti nel file come righe sequenziali da 28 valori l'una -> 100k x 28 = 2800000 "
      ]
    },
    {
      "cell_type": "code",
      "metadata": {
        "id": "Tt6u-TcjsBRz",
        "colab_type": "code",
        "outputId": "e6864ac4-180d-4843-ca45-978634c5b96d",
        "colab": {
          "base_uri": "https://localhost:8080/",
          "height": 34
        }
      },
      "source": [
        "# al fine di visualizzare alcune delle configurazioni convertiamo il vettore numpy un tensore di 100K eventi ognuno \n",
        "# formato da una matrice 28x28 di spin\n",
        "data = data.reshape(100000,28,28)\n",
        "print(data.shape)"
      ],
      "execution_count": 0,
      "outputs": [
        {
          "output_type": "stream",
          "text": [
            "(100000, 28, 28)\n"
          ],
          "name": "stdout"
        }
      ]
    },
    {
      "cell_type": "code",
      "metadata": {
        "id": "uM0oGcILsBR2",
        "colab_type": "code",
        "outputId": "18894103-4f11-489c-c90c-10d8991fef6a",
        "colab": {
          "base_uri": "https://localhost:8080/",
          "height": 969
        }
      },
      "source": [
        "#esempio\n",
        "print(data[2]) #stampa 3zo evento una matrice 28x28 di valori dello spin (-1,1)"
      ],
      "execution_count": 0,
      "outputs": [
        {
          "output_type": "stream",
          "text": [
            "[[ 1. -1.  1.  1. -1.  1. -1.  1. -1.  1. -1.  1. -1.  1.  1.  1. -1.  1.\n",
            "  -1.  1. -1.  1. -1.  1. -1.  1.  1.  1.]\n",
            " [ 1.  1.  1. -1. -1.  1. -1.  1.  1.  1. -1. -1. -1. -1.  1.  1. -1. -1.\n",
            "   1.  1.  1.  1.  1.  1.  1.  1.  1.  1.]\n",
            " [ 1.  1.  1.  1. -1. -1. -1.  1. -1. -1. -1. -1. -1. -1. -1.  1.  1.  1.\n",
            "   1.  1. -1.  1.  1.  1.  1.  1.  1. -1.]\n",
            " [ 1.  1.  1.  1.  1.  1. -1. -1. -1. -1. -1. -1. -1. -1. -1. -1.  1.  1.\n",
            "   1.  1.  1.  1.  1.  1.  1.  1.  1.  1.]\n",
            " [-1.  1.  1.  1.  1. -1. -1. -1. -1. -1. -1.  1. -1.  1.  1.  1. -1.  1.\n",
            "   1.  1.  1.  1.  1. -1.  1.  1.  1.  1.]\n",
            " [ 1.  1.  1.  1.  1.  1. -1.  1.  1. -1. -1. -1. -1.  1.  1.  1.  1.  1.\n",
            "   1.  1.  1.  1.  1.  1.  1.  1. -1.  1.]\n",
            " [-1. -1. -1. -1. -1. -1. -1.  1.  1.  1. -1. -1. -1. -1.  1.  1.  1.  1.\n",
            "   1.  1.  1.  1.  1.  1.  1.  1. -1.  1.]\n",
            " [-1. -1.  1.  1. -1. -1. -1. -1. -1. -1. -1. -1. -1.  1.  1.  1.  1.  1.\n",
            "   1.  1.  1.  1.  1.  1.  1.  1.  1.  1.]\n",
            " [-1. -1.  1.  1. -1.  1.  1. -1. -1. -1. -1. -1.  1.  1.  1.  1. -1.  1.\n",
            "  -1.  1.  1.  1.  1.  1.  1.  1.  1.  1.]\n",
            " [ 1. -1. -1. -1.  1.  1.  1. -1. -1. -1. -1. -1. -1. -1. -1. -1. -1. -1.\n",
            "   1.  1.  1.  1.  1.  1.  1.  1.  1.  1.]\n",
            " [ 1. -1. -1.  1.  1.  1. -1. -1. -1. -1. -1. -1.  1. -1. -1. -1. -1. -1.\n",
            "  -1.  1.  1.  1.  1.  1. -1. -1. -1. -1.]\n",
            " [ 1. -1. -1. -1. -1.  1. -1. -1. -1. -1. -1. -1. -1. -1. -1. -1. -1. -1.\n",
            "  -1.  1.  1.  1.  1.  1. -1. -1. -1. -1.]\n",
            " [ 1. -1. -1.  1. -1. -1. -1. -1. -1. -1. -1. -1. -1. -1. -1.  1.  1.  1.\n",
            "   1.  1.  1. -1.  1.  1.  1.  1. -1.  1.]\n",
            " [ 1.  1. -1.  1. -1. -1. -1. -1. -1. -1. -1. -1. -1. -1.  1.  1.  1.  1.\n",
            "   1.  1.  1. -1.  1.  1.  1.  1.  1.  1.]\n",
            " [ 1.  1.  1.  1.  1. -1. -1. -1. -1. -1. -1. -1. -1.  1.  1.  1.  1.  1.\n",
            "   1.  1.  1. -1.  1.  1.  1.  1.  1.  1.]\n",
            " [ 1.  1.  1.  1.  1.  1. -1. -1. -1. -1. -1. -1. -1.  1.  1. -1. -1. -1.\n",
            "   1.  1.  1.  1.  1.  1.  1.  1.  1.  1.]\n",
            " [ 1.  1.  1.  1.  1. -1. -1. -1. -1. -1. -1. -1. -1.  1.  1.  1. -1. -1.\n",
            "  -1. -1.  1. -1.  1.  1.  1.  1.  1.  1.]\n",
            " [ 1.  1.  1.  1.  1. -1. -1. -1. -1. -1. -1. -1. -1. -1. -1. -1. -1. -1.\n",
            "  -1. -1.  1.  1.  1.  1.  1.  1.  1.  1.]\n",
            " [ 1.  1.  1.  1.  1. -1. -1. -1. -1. -1. -1. -1. -1. -1. -1. -1. -1. -1.\n",
            "  -1. -1. -1. -1.  1.  1.  1.  1.  1.  1.]\n",
            " [ 1.  1.  1.  1.  1. -1.  1. -1.  1.  1.  1. -1. -1. -1. -1. -1. -1.  1.\n",
            "   1. -1. -1.  1.  1. -1.  1.  1.  1.  1.]\n",
            " [ 1.  1.  1.  1.  1. -1.  1.  1.  1.  1.  1. -1. -1. -1. -1. -1.  1.  1.\n",
            "   1. -1.  1.  1.  1.  1.  1.  1.  1.  1.]\n",
            " [ 1.  1.  1.  1.  1.  1.  1.  1.  1.  1.  1.  1.  1.  1. -1. -1.  1.  1.\n",
            "   1.  1.  1.  1.  1. -1. -1. -1. -1.  1.]\n",
            " [ 1.  1.  1.  1.  1.  1.  1.  1. -1. -1.  1.  1.  1.  1.  1. -1.  1.  1.\n",
            "   1.  1.  1.  1. -1. -1. -1. -1. -1.  1.]\n",
            " [ 1.  1.  1.  1. -1.  1.  1. -1. -1. -1. -1.  1.  1.  1.  1.  1.  1.  1.\n",
            "  -1.  1.  1.  1.  1. -1. -1. -1. -1.  1.]\n",
            " [ 1.  1.  1.  1.  1.  1.  1.  1. -1. -1. -1.  1.  1.  1.  1.  1.  1.  1.\n",
            "   1.  1.  1.  1.  1. -1. -1. -1. -1. -1.]\n",
            " [ 1.  1.  1.  1.  1.  1.  1.  1. -1. -1. -1.  1.  1.  1.  1.  1.  1.  1.\n",
            "  -1.  1.  1.  1.  1. -1. -1. -1. -1.  1.]\n",
            " [ 1.  1.  1.  1.  1.  1.  1.  1. -1. -1. -1.  1.  1.  1.  1.  1.  1.  1.\n",
            "   1.  1.  1.  1. -1.  1. -1. -1. -1. -1.]\n",
            " [ 1.  1.  1.  1.  1.  1.  1.  1. -1. -1. -1. -1. -1. -1.  1.  1.  1.  1.\n",
            "  -1.  1.  1.  1.  1.  1.  1.  1.  1.  1.]]\n"
          ],
          "name": "stdout"
        }
      ]
    },
    {
      "cell_type": "code",
      "metadata": {
        "id": "5x3tsxHFsBR5",
        "colab_type": "code",
        "outputId": "aa5c484b-8c7e-479f-a6d9-daf3e4d5240d",
        "colab": {
          "base_uri": "https://localhost:8080/",
          "height": 51
        }
      },
      "source": [
        "#leggiamo da file le label associate:\n",
        "labels = np.loadtxt('/content/drive/My Drive/Colab Notebooks/datasets/ising_label.dat')\n",
        "print(labels.shape)\n",
        "print(labels[3]) #temperatura della configurazione del 4to evento"
      ],
      "execution_count": 0,
      "outputs": [
        {
          "output_type": "stream",
          "text": [
            "(100000,)\n",
            "1.66324\n"
          ],
          "name": "stdout"
        }
      ]
    },
    {
      "cell_type": "code",
      "metadata": {
        "id": "73vCOwlNsBR8",
        "colab_type": "code",
        "outputId": "5e68e2d8-a0ed-4d36-a932-ca51861b36e5",
        "colab": {
          "base_uri": "https://localhost:8080/",
          "height": 170
        }
      },
      "source": [
        "# dividiamo il campione in 3 campioni sulla base dello stato (ordinato, critico, disordinato)\n",
        "# T/J < 2.0 ordinato\n",
        "# T/J > 2.5 disordinato\n",
        "# altrimenti critico\n",
        "\n",
        "ord_sele = (labels < 2.0)\n",
        "dis_sele = (labels > 2.5)\n",
        "cri_sele = ((labels >= 2.0) & (labels <= 2.5))\n",
        "    \n",
        "print(cri_sele)\n",
        "\n",
        "data_ord = data[ord_sele]\n",
        "data_dis = data[dis_sele]\n",
        "data_cri = data[cri_sele]\n",
        "\n",
        "print(data_ord.shape) \n",
        "print(data_cri.shape) \n",
        "print(data_dis.shape)   \n",
        "\n",
        "labels_ord = np.zeros(data_ord.shape[0])\n",
        "labels_dis = np.ones(data_dis.shape[0])\n",
        "\n",
        "labels_critic = labels[cri_sele]\n",
        "print(labels_critic)\n",
        "labels_cri = labels_critic.copy()\n",
        "labels_cri[labels_critic>T_c] = 1\n",
        "labels_cri[labels_critic<=T_c] = 0\n",
        "\n",
        "print(labels_ord)\n",
        "print(labels_dis)\n",
        "print(labels_cri)\n",
        "print(labels_ord.shape)"
      ],
      "execution_count": 0,
      "outputs": [
        {
          "output_type": "stream",
          "text": [
            "[False False  True ... False False False]\n",
            "(40177, 28, 28)\n",
            "(9808, 28, 28)\n",
            "(50015, 28, 28)\n",
            "[2.46347 2.18529 2.17106 ... 2.40353 2.19896 2.47125]\n",
            "[0. 0. 0. ... 0. 0. 0.]\n",
            "[1. 1. 1. ... 1. 1. 1.]\n",
            "[1. 0. 0. ... 1. 0. 1.]\n",
            "(40177,)\n"
          ],
          "name": "stdout"
        }
      ]
    },
    {
      "cell_type": "code",
      "metadata": {
        "id": "hMP_zMKksBSA",
        "colab_type": "code",
        "outputId": "6fd3fc2b-e9c5-4eed-94d5-0d9bc106ed93",
        "colab": {
          "base_uri": "https://localhost:8080/",
          "height": 288
        }
      },
      "source": [
        "#una rappresentazione grafica più bella\n",
        "%matplotlib inline \n",
        "\n",
        "#import ml_style as style\n",
        "import matplotlib as mpl\n",
        "import matplotlib.pyplot as plt\n",
        "from mpl_toolkits.axes_grid1 import make_axes_locatable\n",
        "\n",
        "# set colourbar map\n",
        "cmap_args=dict(cmap='plasma_r')\n",
        "\n",
        "# plot states\n",
        "fig, axarr = plt.subplots(nrows=1, ncols=3)\n",
        "\n",
        "axarr[0].imshow(data_ord[4],**cmap_args)\n",
        "axarr[0].set_title('ordered phase',fontsize=16)\n",
        "axarr[0].tick_params(labelsize=16)\n",
        "\n",
        "axarr[1].imshow(data_cri[4],**cmap_args)\n",
        "axarr[1].set_title('critical region',fontsize=16)\n",
        "axarr[1].tick_params(labelsize=16)\n",
        "\n",
        "im=axarr[2].imshow(data_dis[4],**cmap_args)\n",
        "axarr[2].set_title('disordered phase',fontsize=16)\n",
        "axarr[2].tick_params(labelsize=16)\n",
        "\n",
        "fig.subplots_adjust(right=2.0)\n",
        "\n",
        "plt.show()"
      ],
      "execution_count": 0,
      "outputs": [
        {
          "output_type": "display_data",
          "data": {
            "image/png": "[encoded data removed]",
            "text/plain": [
              "<Figure size 432x288 with 3 Axes>"
            ]
          },
          "metadata": {
            "tags": [],
            "needs_background": "light"
          }
        }
      ]
    },
    {
      "cell_type": "code",
      "metadata": {
        "id": "T_ZCie0osBSD",
        "colab_type": "code",
        "outputId": "683b2eba-5f21-4225-e28f-cbb00f8530a5",
        "colab": {
          "base_uri": "https://localhost:8080/",
          "height": 119
        }
      },
      "source": [
        "##Dividiamo il campione per il training\n",
        "from sklearn.model_selection import train_test_split\n",
        "train_to_test_ratio=0.8 # training samples\n",
        "\n",
        "# define training and test data sets\n",
        "X=np.concatenate((data_ord,data_dis))\n",
        "Y=np.concatenate((labels_ord,labels_dis))\n",
        "\n",
        "# selezioniamo random data points dai campioni ordinati e disordinati per cerare training e test\n",
        "X_train,X_test,Y_train,Y_test=train_test_split(X,Y,train_size=train_to_test_ratio,test_size=1.0-train_to_test_ratio)\n",
        "\n",
        "X_critical = data_cri\n",
        "Y_critical = labels_cri\n",
        "\n",
        "print('X_train shape:', X_train.shape)\n",
        "print('Y_train shape:', Y_train.shape)\n",
        "print()\n",
        "print(X_train.shape[0], 'train samples')\n",
        "print(X_critical.shape[0], 'critical samples')\n",
        "print(X_test.shape[0], 'test samples')\n",
        "\n",
        "# riformattiamo i tensori in modo che abbiano l'input corretto atteso dagli alberi a decisione binaria \n",
        "# (vettori flat di features)   (N,28,28) -> (N, 28*28 = 784)\n",
        "\n",
        "X_train = np.reshape(X_train, (X_train.shape[0], 28*28))\n",
        "X_test = np.reshape(X_test, (X_test.shape[0], 28*28))\n",
        "X_critical = np.reshape(X_critical, (X_critical.shape[0], 28*28))"
      ],
      "execution_count": 0,
      "outputs": [
        {
          "output_type": "stream",
          "text": [
            "X_train shape: (72153, 28, 28)\n",
            "Y_train shape: (72153,)\n",
            "\n",
            "72153 train samples\n",
            "9808 critical samples\n",
            "18039 test samples\n"
          ],
          "name": "stdout"
        }
      ]
    },
    {
      "cell_type": "markdown",
      "metadata": {
        "id": "bu-KVPbJsBSG",
        "colab_type": "text"
      },
      "source": [
        "### Parte 2: addestramento della Random Forests\n",
        "\n",
        "**Iperparametri**\n",
        "\n",
        "Usiamo l'implementazione in [scikit-learn](https://scikit-learn.org/stable/modules/generated/sklearn.ensemble.RandomForestClassifier.html) che ha due iperparamteri principali che possono modificare anche sensibimente le prestazioni del modello e il livelo di overfit/underfit: il numero di alberi nella foresta e la complessità di ciascun albero: il primo è controllato dal parametro `n_estimators`, mentre la complesiità è controllata da vari parametri `min_samples_split`, `min_samples_leaf`, `min_impurity_decrease`, etc, in parte correlati tra loro. Nell'esempio in esame per semplicità useremo solo `min_samples_split` (governa il numero di campioni necessari per procedere ad uno split di un nodo: più alto è il numero minore sarà la segmentazione e le diramazioni dell'albero.\n",
        "\n",
        "**NOTA: Stime OOB (Out of Bag)**\n",
        "\n",
        "È un metodo molto utile per ottimizzare gli iperparametri quanod si usano metodi di bagging: consiste nel verificare quanto bene funziona il classificatore su qyegli eventi del trainign set che non sono stati usati nel training (perchè non campionati nella technica di boostrap). Gioca un ruolo simile alla k-fold cross-validation."
      ]
    },
    {
      "cell_type": "code",
      "metadata": {
        "id": "v4-NISyrsBSG",
        "colab_type": "code",
        "outputId": "a79e7bbe-e125-4d10-dd06-747c8748b2d8",
        "colab": {
          "base_uri": "https://localhost:8080/",
          "height": 1000
        }
      },
      "source": [
        "# Scikit-learn Random Forest\n",
        "from sklearn.ensemble import RandomForestClassifier\n",
        "import time\n",
        "import warnings\n",
        "#disabilitiamo messaggi di warning \n",
        "warnings.filterwarnings(\"ignore\")\n",
        "\n",
        "#Valore del numero di alberi \n",
        "min_estimators = 10\n",
        "max_estimators = 101\n",
        "classifer = RandomForestClassifier\n",
        "\n",
        "n_estimator_range=np.arange(min_estimators, max_estimators, 10) #testiamo 10 valori per il primo iperparametro\n",
        "\n",
        "leaf_size_list=[2,10000] #testiamo due valori per il seocondo iperparametro (alta segmentazione e bassa segmentazione)\n",
        "\n",
        "m=len(n_estimator_range)\n",
        "n=len(leaf_size_list)\n",
        "\n",
        "#Allocate Arrays for various quantities\n",
        "RFC_OOB_accuracy=np.zeros((n,m))\n",
        "RFC_train_accuracy=np.zeros((n,m))\n",
        "RFC_test_accuracy=np.zeros((n,m))\n",
        "RFC_critical_accuracy=np.zeros((n,m))\n",
        "run_time=np.zeros((n,m))\n",
        "\n",
        "print_flag=True\n",
        "\n",
        "for i, leaf_size in enumerate(leaf_size_list):\n",
        "    # Define Random Forest Classifier\n",
        "    myRF_clf = classifer(\n",
        "        n_estimators=min_estimators,\n",
        "        max_depth=None, \n",
        "        min_samples_split=leaf_size, # minimum number of sample per leaf\n",
        "        oob_score=True,\n",
        "        random_state=0,\n",
        "        warm_start=True # When set to True, reuse the solution of the previous call to fit and add more estimators to the ensemble, otherwise, just fit a whole new forest.\n",
        "    )\n",
        "    for j, n_estimator in enumerate(n_estimator_range):\n",
        "        \n",
        "        print('n_estimators: %i, leaf_size: %i'%(n_estimator,leaf_size))\n",
        "        \n",
        "        start_time = time.time()\n",
        "        myRF_clf.set_params(n_estimators=n_estimator)\n",
        "        myRF_clf.fit(X_train, Y_train)\n",
        "        run_time[i,j] = time.time() - start_time\n",
        "\n",
        "    # check accuracy\n",
        "        RFC_train_accuracy[i,j]=myRF_clf.score(X_train,Y_train)\n",
        "        RFC_OOB_accuracy[i,j]=myRF_clf.oob_score_\n",
        "        RFC_test_accuracy[i,j]=myRF_clf.score(X_test,Y_test)\n",
        "        RFC_critical_accuracy[i,j]=myRF_clf.score(X_critical,Y_critical)\n",
        "        if print_flag:\n",
        "            result = (run_time[i,j], RFC_train_accuracy[i,j], RFC_OOB_accuracy[i,j], RFC_test_accuracy[i,j], RFC_critical_accuracy[i,j])\n",
        "            print('{0:<15}{1:<15}{2:<15}{3:<15}{4:<15}'.format(\"time (s)\",\"train score\", \"OOB estimate\",\"test score\", \"critical score\"))\n",
        "            print('{0:<15.4f}{1:<15.4f}{2:<15.4f}{3:<15.4f}{4:<15.4f}'.format(*result))\n"
      ],
      "execution_count": 0,
      "outputs": [
        {
          "output_type": "stream",
          "text": [
            "n_estimators: 10, leaf_size: 2\n",
            "time (s)       train score    OOB estimate   test score     critical score \n",
            "2.8409         1.0000         0.9912         0.9995         0.8015         \n",
            "n_estimators: 20, leaf_size: 2\n",
            "time (s)       train score    OOB estimate   test score     critical score \n",
            "2.9906         1.0000         0.9995         0.9994         0.8157         \n",
            "n_estimators: 30, leaf_size: 2\n",
            "time (s)       train score    OOB estimate   test score     critical score \n",
            "3.3356         1.0000         0.9997         0.9997         0.8129         \n",
            "n_estimators: 40, leaf_size: 2\n",
            "time (s)       train score    OOB estimate   test score     critical score \n",
            "3.5827         1.0000         0.9997         0.9997         0.8154         \n",
            "n_estimators: 50, leaf_size: 2\n",
            "time (s)       train score    OOB estimate   test score     critical score \n",
            "3.8983         1.0000         0.9997         0.9994         0.8135         \n",
            "n_estimators: 60, leaf_size: 2\n",
            "time (s)       train score    OOB estimate   test score     critical score \n",
            "4.2249         1.0000         0.9997         0.9995         0.8174         \n",
            "n_estimators: 70, leaf_size: 2\n",
            "time (s)       train score    OOB estimate   test score     critical score \n",
            "4.5213         1.0000         0.9998         0.9995         0.8133         \n",
            "n_estimators: 80, leaf_size: 2\n",
            "time (s)       train score    OOB estimate   test score     critical score \n",
            "4.7956         1.0000         0.9998         0.9994         0.8164         \n",
            "n_estimators: 90, leaf_size: 2\n",
            "time (s)       train score    OOB estimate   test score     critical score \n",
            "5.0555         1.0000         0.9998         0.9994         0.8153         \n",
            "n_estimators: 100, leaf_size: 2\n",
            "time (s)       train score    OOB estimate   test score     critical score \n",
            "5.3256         1.0000         0.9997         0.9994         0.8176         \n",
            "n_estimators: 10, leaf_size: 10000\n",
            "time (s)       train score    OOB estimate   test score     critical score \n",
            "1.8357         0.8742         0.8859         0.8682         0.6681         \n",
            "n_estimators: 20, leaf_size: 10000\n",
            "time (s)       train score    OOB estimate   test score     critical score \n",
            "2.1689         0.8549         0.8752         0.8504         0.6692         \n",
            "n_estimators: 30, leaf_size: 10000\n",
            "time (s)       train score    OOB estimate   test score     critical score \n",
            "2.4475         0.9045         0.9066         0.8978         0.6781         \n",
            "n_estimators: 40, leaf_size: 10000\n",
            "time (s)       train score    OOB estimate   test score     critical score \n",
            "2.7754         0.9069         0.9084         0.8998         0.6796         \n",
            "n_estimators: 50, leaf_size: 10000\n",
            "time (s)       train score    OOB estimate   test score     critical score \n",
            "2.9850         0.9216         0.9159         0.9153         0.6818         \n",
            "n_estimators: 60, leaf_size: 10000\n",
            "time (s)       train score    OOB estimate   test score     critical score \n",
            "3.2735         0.9099         0.9096         0.9025         0.6796         \n",
            "n_estimators: 70, leaf_size: 10000\n",
            "time (s)       train score    OOB estimate   test score     critical score \n",
            "3.5191         0.9096         0.9089         0.9025         0.6809         \n",
            "n_estimators: 80, leaf_size: 10000\n",
            "time (s)       train score    OOB estimate   test score     critical score \n",
            "3.8850         0.9061         0.9050         0.8987         0.6771         \n",
            "n_estimators: 90, leaf_size: 10000\n",
            "time (s)       train score    OOB estimate   test score     critical score \n",
            "4.0535         0.9102         0.9080         0.9026         0.6792         \n",
            "n_estimators: 100, leaf_size: 10000\n",
            "time (s)       train score    OOB estimate   test score     critical score \n",
            "4.3397         0.9104         0.9097         0.9034         0.6761         \n"
          ],
          "name": "stdout"
        }
      ]
    },
    {
      "cell_type": "code",
      "metadata": {
        "id": "f3PIzJWGFcHQ",
        "colab_type": "code",
        "outputId": "5d360c56-4b4f-4126-8d2c-0efa12db3617",
        "colab": {
          "base_uri": "https://localhost:8080/",
          "height": 102
        }
      },
      "source": [
        "print(RFC_train_accuracy)\n",
        "print(RFC_train_accuracy.shape)"
      ],
      "execution_count": 0,
      "outputs": [
        {
          "output_type": "stream",
          "text": [
            "[[1.         1.         1.         1.         1.         1.\n",
            "  1.         1.         1.         1.        ]\n",
            " [0.87423946 0.85490555 0.90452233 0.90692002 0.92159716 0.90991366\n",
            "  0.90960875 0.90610231 0.9102047  0.91037102]]\n",
            "(2, 10)\n"
          ],
          "name": "stdout"
        }
      ]
    },
    {
      "cell_type": "markdown",
      "metadata": {
        "id": "Rk2BDx8VsBSJ",
        "colab_type": "text"
      },
      "source": [
        "**Grafico delle prestazioni:**"
      ]
    },
    {
      "cell_type": "code",
      "metadata": {
        "id": "krCdhqw3sBSJ",
        "colab_type": "code",
        "outputId": "5b7678e0-2bc4-4ea0-bbc6-c44a6b3f8af3",
        "colab": {
          "base_uri": "https://localhost:8080/",
          "height": 553
        }
      },
      "source": [
        "plt.figure()\n",
        "plt.plot(n_estimator_range,RFC_train_accuracy[1],'--b^',label='Train (bassa segmentazione)')\n",
        "plt.plot(n_estimator_range,RFC_test_accuracy[1],'--r^',label='Test (bassa segmentazione)')\n",
        "plt.plot(n_estimator_range,RFC_critical_accuracy[1],'--g^',label='Critical (bassa segmentazione)')\n",
        "\n",
        "plt.plot(n_estimator_range,RFC_train_accuracy[0],'o-b',label='Train (alta segmentazione)')\n",
        "plt.plot(n_estimator_range,RFC_test_accuracy[0],'o-r',label='Test (alta segmentazione)')\n",
        "plt.plot(n_estimator_range,RFC_critical_accuracy[0],'o-g',label='Critical (alta segmentazione)')\n",
        "\n",
        "plt.xlabel('$N_\\mathrm{estimators}$')\n",
        "plt.ylabel('Accuracy')\n",
        "lgd=plt.legend(bbox_to_anchor=(1.05, 1), loc=2, borderaxespad=0.)\n",
        "plt.savefig(\"Ising_RF.pdf\",bbox_extra_artists=(lgd,), bbox_inches='tight')\n",
        "\n",
        "plt.show()\n",
        "\n",
        "plt.plot(n_estimator_range, run_time[1], '--k^',label='Bassa segmentazione')\n",
        "plt.plot(n_estimator_range, run_time[0], 'o-k',label='Alta segmentazione')\n",
        "plt.xlabel('$N_\\mathrm{estimators}$')\n",
        "plt.ylabel('Run time (s)')\n",
        "\n",
        "\n",
        "plt.legend(loc=2)\n",
        "#plt.savefig(\"Ising_RF_Runtime.pdf\")\n",
        "\n",
        "plt.show()"
      ],
      "execution_count": 0,
      "outputs": [
        {
          "output_type": "display_data",
          "data": {
            "image/png": "[encoded data removed]",
            "text/plain": [
              "<Figure size 432x288 with 1 Axes>"
            ]
          },
          "metadata": {
            "tags": [],
            "needs_background": "light"
          }
        },
        {
          "output_type": "display_data",
          "data": {
            "image/png": "[encoded data removed]",
            "text/plain": [
              "<Figure size 432x288 with 1 Axes>"
            ]
          },
          "metadata": {
            "tags": [],
            "needs_background": "light"
          }
        }
      ]
    },
    {
      "cell_type": "markdown",
      "metadata": {
        "collapsed": true,
        "id": "1nsF8Q9CsBSO",
        "colab_type": "text"
      },
      "source": [
        "### Esercizi: ###  \n",
        "\n",
        "* provate ad implementare un classificatore basato su un semplice albero di decisione binaria in scikitlearn e confrontare le prestazioni con la foresta random\n",
        "\n",
        "* provate ad implementare un classificatore tipo gradient boost in scikitlearn \n",
        "(*sklearn.ensemble.GradientBoostingClassifier*) ottimizzandone le prestazioni ed evitando overfitting e confrontate con la foresta random\n",
        "\n",
        "* provate a implementare invece che una validazione OOB (gratis con le foreste random in scikit-learn) una k-fold validation (con k=5 e 10) e verificate se vi sono differenze (OOB tende a dare delle stime molto pessimistiche).\n",
        "    \n",
        "NOTA: per imparare ad implementare una k-fold validation in scikit-learn guardate a questo [tutorial](https://scikit-learn.org/stable/modules/cross_validation.html)\n",
        "\n",
        "* (opzionale) provate ad addestrare un modello gradient boost in regressione (*sklearn.ensemble.GradientBoostingRegressor*)che predica le temperature associate alle configurazioni del modello di ising"
      ]
    },
    {
      "cell_type": "markdown",
      "metadata": {
        "id": "2kssRVZorypA",
        "colab_type": "text"
      },
      "source": [
        "#**Albero di decisione binaria**"
      ]
    },
    {
      "cell_type": "markdown",
      "metadata": {
        "id": "Id2jH-Xwr3ei",
        "colab_type": "text"
      },
      "source": [
        "Per prima cosa implementiamo un albero di decisione binaria, utilizzando la funzione apposita disponibile in scikit-learn."
      ]
    },
    {
      "cell_type": "code",
      "metadata": {
        "id": "4x7K9Eu5r6Y1",
        "colab_type": "code",
        "outputId": "9e97163f-118f-4707-81a4-6ff1387a3334",
        "colab": {
          "base_uri": "https://localhost:8080/",
          "height": 71
        }
      },
      "source": [
        "from sklearn.tree import DecisionTreeClassifier\n",
        "\n",
        "x = 0\n",
        "n = np.arange(2, 20000, 10000)\n",
        "for j in n:\n",
        "  clf = DecisionTreeClassifier(min_samples_leaf=j)\n",
        "  clf.fit(X_train, Y_train)\n",
        "  trainscore = clf.score(X_train, Y_train)\n",
        "  testscore = clf.score(X_test, Y_test)\n",
        "  criticalscore = clf.score(X_critical, Y_critical)\n",
        "\n",
        "  print('number of leaves: ', j, 'train accuracy: ', trainscore, ' test accuracy: ', testscore, ' critical accuracy: ', criticalscore)"
      ],
      "execution_count": 0,
      "outputs": [
        {
          "output_type": "stream",
          "text": [
            "number of leaves:  2 train accuracy:  0.9993208875583829  test accuracy:  0.9928488275403293  critical accuracy:  0.7084013050570962\n",
            "number of leaves:  10002 train accuracy:  0.7649162196998046  test accuracy:  0.7576916680525528  critical accuracy:  0.5669861337683524\n"
          ],
          "name": "stdout"
        }
      ]
    },
    {
      "cell_type": "markdown",
      "metadata": {
        "id": "I_HIZgwzsFjw",
        "colab_type": "text"
      },
      "source": [
        "Osserviamo che, sia usando una alta che una bassa segmentazione, l'accuracy risultante sui tre campioni di training, test e di temperature critiche è minore di quella ottenuta utilizzando la foresta random. Tuttavia, specie nel caso di alta segmentazione, si ottiene una accuracy già elevata per training e test (rispettivamente $99.9\\%$ e $99.3\\%$), mentre la prestazione veramente deludente riguarda i campioni alle temperature critiche (dove l'accuracy cala dall'$82.3\\%$ al $70.4\\%$). Si conclude che, per classificare efficacemente campioni ordinati o disordinati, un albero di decisione binaria ad alta segmentazione è più che suffuciente, mentre nel caso di temperature critiche occorre adoperare metodi più sofisticati."
      ]
    },
    {
      "cell_type": "markdown",
      "metadata": {
        "id": "jM8iDQfK8wQt",
        "colab_type": "text"
      },
      "source": [
        "#**Implementazione di GradientBoostingClassifier**"
      ]
    },
    {
      "cell_type": "markdown",
      "metadata": {
        "id": "JJtHdFwuRXff",
        "colab_type": "text"
      },
      "source": [
        "Implementiamo ora l'algoritmo Gradient Boosting Classifier, anch'esso disponibile nella librearia di scikit-learn, e confrontiamone le prestazioni con quelle della random forest."
      ]
    },
    {
      "cell_type": "code",
      "metadata": {
        "id": "SBvuAA5k86ly",
        "colab_type": "code",
        "outputId": "809f7ada-764e-4519-e4b4-526e02fa1774",
        "colab": {
          "base_uri": "https://localhost:8080/",
          "height": 1000
        }
      },
      "source": [
        "from sklearn.ensemble import GradientBoostingClassifier\n",
        "import time\n",
        "import warnings\n",
        "#disabilitiamo messaggi di warning \n",
        "warnings.filterwarnings(\"ignore\")\n",
        "\n",
        "m=len(n_estimator_range)\n",
        "n=len(leaf_size_list)\n",
        "\n",
        "#Allocate Arrays for various quantities\n",
        "gbc_train_accuracy=np.zeros((n,m))\n",
        "gbc_test_accuracy=np.zeros((n,m))\n",
        "gbc_critical_accuracy=np.zeros((n,m))\n",
        "run_time=np.zeros((n,m))\n",
        "\n",
        "for i, leaf_size in enumerate(leaf_size_list):\n",
        "  # Define Gradient Boosting Classifier\n",
        "  gbc = GradientBoostingClassifier(n_estimators=min_estimators, min_samples_split=leaf_size, random_state=0, warm_start=True)\n",
        "\n",
        "  for j, n_estimator in enumerate(n_estimator_range):\n",
        "        \n",
        "    print('n_estimators: %i, leaf_size: %i'%(n_estimator,leaf_size))\n",
        "        \n",
        "    start_time = time.time()\n",
        "    gbc.set_params(n_estimators=n_estimator)\n",
        "    gbc.fit(X_train, Y_train)\n",
        "    run_time[i,j] = time.time() - start_time    \n",
        "    \n",
        "    # check accuracy\n",
        "    gbc_train_accuracy[i,j]=gbc.score(X_train,Y_train)\n",
        "    gbc_test_accuracy[i,j]=gbc.score(X_test,Y_test)\n",
        "    gbc_critical_accuracy[i,j]=gbc.score(X_critical,Y_critical)\n",
        "        \n",
        "    if print_flag:\n",
        "      result = (run_time[i,j], gbc_train_accuracy[i,j], gbc_test_accuracy[i,j], gbc_critical_accuracy[i,j])\n",
        "      print('{0:<15}{1:<15}{2:<15}{3:<15}'.format(\"time (s)\",\"train score\", \"test score\", \"critical score\"))\n",
        "      print('{0:<15.4f}{1:<15.4f}{2:<15.4f}{3:<15.4f}'.format(*result))\n"
      ],
      "execution_count": 0,
      "outputs": [
        {
          "output_type": "stream",
          "text": [
            "n_estimators: 10, leaf_size: 2\n",
            "time (s)       train score    test score     critical score \n",
            "32.8776        0.8303         0.8275         0.5767         \n",
            "n_estimators: 20, leaf_size: 2\n",
            "time (s)       train score    test score     critical score \n",
            "33.1774        0.8581         0.8568         0.5854         \n",
            "n_estimators: 30, leaf_size: 2\n",
            "time (s)       train score    test score     critical score \n",
            "35.2603        0.8942         0.8926         0.6054         \n",
            "n_estimators: 40, leaf_size: 2\n",
            "time (s)       train score    test score     critical score \n",
            "32.8188        0.9416         0.9400         0.6386         \n",
            "n_estimators: 50, leaf_size: 2\n",
            "time (s)       train score    test score     critical score \n",
            "32.5343        0.9807         0.9762         0.6764         \n",
            "n_estimators: 60, leaf_size: 2\n",
            "time (s)       train score    test score     critical score \n",
            "32.7470        0.9900         0.9875         0.7036         \n",
            "n_estimators: 70, leaf_size: 2\n",
            "time (s)       train score    test score     critical score \n",
            "32.8145        0.9931         0.9918         0.7205         \n",
            "n_estimators: 80, leaf_size: 2\n",
            "time (s)       train score    test score     critical score \n",
            "32.8354        0.9952         0.9941         0.7309         \n",
            "n_estimators: 90, leaf_size: 2\n",
            "time (s)       train score    test score     critical score \n",
            "32.8383        0.9969         0.9960         0.7419         \n",
            "n_estimators: 100, leaf_size: 2\n",
            "time (s)       train score    test score     critical score \n",
            "32.9277        0.9977         0.9966         0.7543         \n",
            "n_estimators: 10, leaf_size: 10000\n",
            "time (s)       train score    test score     critical score \n",
            "30.6177        0.8311         0.8304         0.5741         \n",
            "n_estimators: 20, leaf_size: 10000\n",
            "time (s)       train score    test score     critical score \n",
            "31.3390        0.8347         0.8323         0.5815         \n",
            "n_estimators: 30, leaf_size: 10000\n",
            "time (s)       train score    test score     critical score \n",
            "31.3872        0.8777         0.8763         0.6031         \n",
            "n_estimators: 40, leaf_size: 10000\n",
            "time (s)       train score    test score     critical score \n",
            "31.7353        0.9570         0.9540         0.6610         \n",
            "n_estimators: 50, leaf_size: 10000\n",
            "time (s)       train score    test score     critical score \n",
            "31.6084        0.9818         0.9793         0.6984         \n",
            "n_estimators: 60, leaf_size: 10000\n",
            "time (s)       train score    test score     critical score \n",
            "31.4686        0.9903         0.9885         0.7138         \n",
            "n_estimators: 70, leaf_size: 10000\n",
            "time (s)       train score    test score     critical score \n",
            "31.8497        0.9930         0.9912         0.7297         \n",
            "n_estimators: 80, leaf_size: 10000\n",
            "time (s)       train score    test score     critical score \n",
            "31.4145        0.9949         0.9942         0.7429         \n",
            "n_estimators: 90, leaf_size: 10000\n",
            "time (s)       train score    test score     critical score \n",
            "31.7439        0.9960         0.9956         0.7547         \n",
            "n_estimators: 100, leaf_size: 10000\n",
            "time (s)       train score    test score     critical score \n",
            "31.5087        0.9971         0.9965         0.7633         \n"
          ],
          "name": "stdout"
        }
      ]
    },
    {
      "cell_type": "code",
      "metadata": {
        "id": "REkKtkzgwUJq",
        "colab_type": "code",
        "outputId": "7dc642ad-aca1-45fa-dd1a-af7a6a9f2865",
        "colab": {
          "base_uri": "https://localhost:8080/",
          "height": 549
        }
      },
      "source": [
        "plt.figure()\n",
        "plt.plot(n_estimator_range,gbc_train_accuracy[1],'--b^',label='Train (bassa segmentazione)')\n",
        "plt.plot(n_estimator_range,gbc_test_accuracy[1],'--r^',label='Test (bassa segmentazione)')\n",
        "plt.plot(n_estimator_range,gbc_critical_accuracy[1],'--g^',label='Critical (bassa segmentazione)')\n",
        "\n",
        "plt.plot(n_estimator_range,gbc_train_accuracy[0],'o-b',label='Train (alta segmentazione)')\n",
        "plt.plot(n_estimator_range,gbc_test_accuracy[0],'o-r',label='Test (alta segmentazione)')\n",
        "plt.plot(n_estimator_range,gbc_critical_accuracy[0],'o-g',label='Critical (alta segmentazione)')\n",
        "\n",
        "plt.xlabel('$N_\\mathrm{estimators}$')\n",
        "plt.ylabel('Accuracy')\n",
        "lgd=plt.legend(bbox_to_anchor=(1.05, 1), loc=2, borderaxespad=0.)\n",
        "plt.savefig(\"Ising_RF.pdf\",bbox_extra_artists=(lgd,), bbox_inches='tight')\n",
        "\n",
        "plt.show()\n",
        "\n",
        "plt.plot(n_estimator_range, run_time[1], '--k^',label='Bassa segmentazione')\n",
        "plt.plot(n_estimator_range, run_time[0], 'o-k',label='Alta segmentazione')\n",
        "plt.xlabel('$N_\\mathrm{estimators}$')\n",
        "plt.ylabel('Run time (s)')\n",
        "\n",
        "\n",
        "plt.legend(loc=2)\n",
        "#plt.savefig(\"Ising_RF_Runtime.pdf\")\n",
        "\n",
        "plt.show()"
      ],
      "execution_count": 0,
      "outputs": [
        {
          "output_type": "display_data",
          "data": {
            "image/png": "[encoded data removed]",
            "text/plain": [
              "<Figure size 432x288 with 1 Axes>"
            ]
          },
          "metadata": {
            "tags": [],
            "needs_background": "light"
          }
        },
        {
          "output_type": "display_data",
          "data": {
            "image/png": "[encoded data removed]",
            "text/plain": [
              "<Figure size 432x288 with 1 Axes>"
            ]
          },
          "metadata": {
            "tags": [],
            "needs_background": "light"
          }
        }
      ]
    },
    {
      "cell_type": "markdown",
      "metadata": {
        "id": "hyF2K_CvWr9x",
        "colab_type": "text"
      },
      "source": [
        "Osserviamo che l'algoritmo tende a rendere più simili le dinamiche di alta e bassa segmentazione, per le quali non si osservano ora differenze apprezzabili, una volta saturata l'accuracy per i campioni di training e di test. Per quanto riguarda le temperature critiche, notiamo che l'accuracy migliore è associata alla bassa segmentazione, la quale tuttavia diminuisce dall'$82.3\\%$ al $76.3\\%$.\n",
        "\n",
        "Il tempo impiegato dall'algoritmo è però molto maggiore di quello di una random forest. Inoltre, mentre nel caso della foresta esso cresceva linearmente con il numero di stimatori, in questo caso esso appare costante, a meno di fluttuazioni statistiche."
      ]
    },
    {
      "cell_type": "markdown",
      "metadata": {
        "id": "1Sc1XpJwzaCQ",
        "colab_type": "text"
      },
      "source": [
        "#**Implementazione dell'ADABoost**"
      ]
    },
    {
      "cell_type": "markdown",
      "metadata": {
        "id": "VdBQ7tXpYOpb",
        "colab_type": "text"
      },
      "source": [
        "Per completare lo studio degli algoritmi di classificazione, implementiamo ADABoost, servendoci ancora della libreria scikit-learn."
      ]
    },
    {
      "cell_type": "code",
      "metadata": {
        "id": "eRysOopd2Qcz",
        "colab_type": "code",
        "outputId": "ed0cbab5-8647-402e-b292-5c8e188b2d67",
        "colab": {
          "base_uri": "https://localhost:8080/",
          "height": 1000
        }
      },
      "source": [
        "from sklearn.tree import DecisionTreeClassifier\n",
        "from sklearn.ensemble import AdaBoostClassifier\n",
        "import time\n",
        "import warnings\n",
        "#disabilitiamo messaggi di warning \n",
        "warnings.filterwarnings(\"ignore\")\n",
        "\n",
        "tree = np.arange(10, 101, 10)\n",
        "leaf = [2,10000]\n",
        "m = len(tree)\n",
        "n = len(leaf)\n",
        "\n",
        "ada_train_score = np.zeros((n,m))\n",
        "ada_test_score = np.zeros((n,m))\n",
        "ada_critical_score = np.zeros((n,m))\n",
        "run_time = np.zeros((n,m))\n",
        "\n",
        "for j, l in enumerate(leaf):\n",
        "  for i, t in enumerate(tree):\n",
        "    ada = AdaBoostClassifier(DecisionTreeClassifier(min_samples_split=l), n_estimators=t)\n",
        "    start_time = time.time()\n",
        "    ada.fit(X_train, Y_train)\n",
        "    ada_train_score[j,i] = ada.score(X_train, Y_train)\n",
        "    ada_test_score[j,i] = ada.score(X_test, Y_test)\n",
        "    ada_critical_score[j,i] = ada.score(X_critical, Y_critical)\n",
        "    run_time[j,i] = time.time() - start_time\n",
        "    print(\"\\nLeaf size: \", l, \"n_estimators: \", t)\n",
        "    print(\"Training accuracy: \", ada_train_score[j,i], \"Test accuracy: \", ada_test_score[j,i],  \"Critical accuracy: \", ada_critical_score[j,i])"
      ],
      "execution_count": 0,
      "outputs": [
        {
          "output_type": "stream",
          "text": [
            "\n",
            "Leaf size:  2 n_estimators:  10\n",
            "Training accuracy:  1.0 Test accuracy:  0.993791230112534 Critical accuracy:  0.6943311582381729\n",
            "\n",
            "Leaf size:  2 n_estimators:  20\n",
            "Training accuracy:  1.0 Test accuracy:  0.9933477465491435 Critical accuracy:  0.6956566068515497\n",
            "\n",
            "Leaf size:  2 n_estimators:  30\n",
            "Training accuracy:  1.0 Test accuracy:  0.9932368756582959 Critical accuracy:  0.6907626427406199\n",
            "\n",
            "Leaf size:  2 n_estimators:  40\n",
            "Training accuracy:  1.0 Test accuracy:  0.9934586174399911 Critical accuracy:  0.6958605220228385\n",
            "\n",
            "Leaf size:  2 n_estimators:  50\n",
            "Training accuracy:  1.0 Test accuracy:  0.9931814402128721 Critical accuracy:  0.6897430668841762\n",
            "\n",
            "Leaf size:  2 n_estimators:  60\n",
            "Training accuracy:  1.0 Test accuracy:  0.9936803592216863 Critical accuracy:  0.6930057096247961\n",
            "\n",
            "Leaf size:  2 n_estimators:  70\n",
            "Training accuracy:  1.0 Test accuracy:  0.9931814402128721 Critical accuracy:  0.6948409461663948\n",
            "\n",
            "Leaf size:  2 n_estimators:  80\n",
            "Training accuracy:  1.0 Test accuracy:  0.9942347136759244 Critical accuracy:  0.6901508972267537\n",
            "\n",
            "Leaf size:  2 n_estimators:  90\n",
            "Training accuracy:  1.0 Test accuracy:  0.9937357946671102 Critical accuracy:  0.6945350734094616\n",
            "\n",
            "Leaf size:  2 n_estimators:  100\n",
            "Training accuracy:  1.0 Test accuracy:  0.9934031819945673 Critical accuracy:  0.6925978792822186\n",
            "\n",
            "Leaf size:  10000 n_estimators:  10\n",
            "Training accuracy:  1.0 Test accuracy:  0.9993902101003381 Critical accuracy:  0.7592781402936378\n",
            "\n",
            "Leaf size:  10000 n_estimators:  20\n",
            "Training accuracy:  1.0 Test accuracy:  0.9996119518820333 Critical accuracy:  0.7780383360522023\n",
            "\n",
            "Leaf size:  10000 n_estimators:  30\n",
            "Training accuracy:  1.0 Test accuracy:  0.9995565164366096 Critical accuracy:  0.779057911908646\n",
            "\n",
            "Leaf size:  10000 n_estimators:  40\n",
            "Training accuracy:  1.0 Test accuracy:  0.9996673873274572 Critical accuracy:  0.7885399673735726\n",
            "\n",
            "Leaf size:  10000 n_estimators:  50\n",
            "Training accuracy:  1.0 Test accuracy:  0.9998336936637285 Critical accuracy:  0.789457585644372\n",
            "\n",
            "Leaf size:  10000 n_estimators:  60\n",
            "Training accuracy:  1.0 Test accuracy:  0.9998336936637285 Critical accuracy:  0.8008768352365416\n",
            "\n",
            "Leaf size:  10000 n_estimators:  70\n",
            "Training accuracy:  1.0 Test accuracy:  0.9998336936637285 Critical accuracy:  0.8083197389885808\n",
            "\n",
            "Leaf size:  10000 n_estimators:  80\n",
            "Training accuracy:  1.0 Test accuracy:  0.9997782582183048 Critical accuracy:  0.8109706362153344\n",
            "\n",
            "Leaf size:  10000 n_estimators:  90\n",
            "Training accuracy:  1.0 Test accuracy:  0.9997782582183048 Critical accuracy:  0.81086867862969\n",
            "\n",
            "Leaf size:  10000 n_estimators:  100\n",
            "Training accuracy:  1.0 Test accuracy:  0.9998336936637285 Critical accuracy:  0.8148450244698205\n"
          ],
          "name": "stdout"
        }
      ]
    },
    {
      "cell_type": "code",
      "metadata": {
        "id": "n5eMoAQIFXsq",
        "colab_type": "code",
        "outputId": "41d39737-de2c-4e7c-ed99-c07f97d75a61",
        "colab": {
          "base_uri": "https://localhost:8080/",
          "height": 549
        }
      },
      "source": [
        "plt.figure()\n",
        "plt.plot(tree,ada_train_score[1],'--b^',label='Train (bassa segmentazione)')\n",
        "plt.plot(tree,ada_test_score[1],'--r^',label='Test (bassa segmentazione)')\n",
        "plt.plot(tree,ada_critical_score[1],'--g^',label='Critical (bassa segmentazione)')\n",
        "\n",
        "plt.plot(tree,ada_train_score[0],'o-b',label='Train (alta segmentazione)')\n",
        "plt.plot(tree,ada_test_score[0],'o-r',label='Test (alta segmentazione)')\n",
        "plt.plot(tree,ada_critical_score[0],'o-g',label='Critical (alta segmentazione)')\n",
        "\n",
        "plt.xlabel('$N_\\mathrm{estimators}$')\n",
        "plt.ylabel('Accuracy')\n",
        "lgd=plt.legend(bbox_to_anchor=(1.05, 1), loc=2, borderaxespad=0.)\n",
        "plt.savefig(\"Ising_RF.pdf\",bbox_extra_artists=(lgd,), bbox_inches='tight')\n",
        "\n",
        "plt.show()\n",
        "\n",
        "plt.plot(tree, run_time[1], '--k^',label='Bassa segmentazione')\n",
        "plt.plot(tree, run_time[0], 'o-k',label='Alta segmentazione')\n",
        "plt.xlabel('$N_\\mathrm{estimators}$')\n",
        "plt.ylabel('Run time (s)')\n",
        "\n",
        "\n",
        "plt.legend(loc=2)\n",
        "#plt.savefig(\"Ising_RF_Runtime.pdf\")\n",
        "\n",
        "plt.show()"
      ],
      "execution_count": 0,
      "outputs": [
        {
          "output_type": "display_data",
          "data": {
            "image/png": "[encoded data removed]",
            "text/plain": [
              "<Figure size 432x288 with 1 Axes>"
            ]
          },
          "metadata": {
            "tags": [],
            "needs_background": "light"
          }
        },
        {
          "output_type": "display_data",
          "data": {
            "image/png": "[encoded data removed]",
            "text/plain": [
              "<Figure size 432x288 with 1 Axes>"
            ]
          },
          "metadata": {
            "tags": [],
            "needs_background": "light"
          }
        }
      ]
    },
    {
      "cell_type": "markdown",
      "metadata": {
        "id": "-I8AIPLEYiB8",
        "colab_type": "text"
      },
      "source": [
        "In questo caso, l'accuracy sul campione di training è massima già con un esiguo numero di stimatori, sia per l'alta, sia per la bassa segmentazione. Osserviamo però un cambio di tendenza nelle performace dei due tipi di segmentazione nei campioni di test e relativi alle temperature critiche. Nel caso del test, sebbene sia alta e bassa segmentazione permettano entrambe all'algoritmo di raggiungere ottimi valori di accuracy, i valori associati alla bassa segmentazione risultano ora costantemente maggiori. Ciò è ancora più evidente nel caso delle temperature critiche: mentre l'alta segmentazione produce dei valori di accuracy abbastanza costanti all'aumentare del numero di stimatori, la bassa segmentazione mostra una leggera crescita, fino a raggiungere l'$81.5\\%$ di accuracy (che rimane comunque inferiore a quanto ottenuto con la random forest).\n",
        "\n",
        "Riscontriamo un'altra peculiarità nel grafico del tempo di run dell'algoritmo: mentre l'alta segmentazione permette all'algoritmo di operare in pochi secondi, indipendentemente dal numero di stimatori, con la bassa segmentazione osserviamo una crescita lineare del tempo di run del programma, che passa da poco più di un minuto per 10 stimatori a quasi 9 minuti per 100 stimatori."
      ]
    },
    {
      "cell_type": "markdown",
      "metadata": {
        "id": "YXu7nAnd87o5",
        "colab_type": "text"
      },
      "source": [
        "#**Implementazione della K-Fold validation**"
      ]
    },
    {
      "cell_type": "markdown",
      "metadata": {
        "id": "2t5f7CMUfIfT",
        "colab_type": "text"
      },
      "source": [
        "Intendiamo ora valutare l'accuracy della random forest mediante la K-fold validation."
      ]
    },
    {
      "cell_type": "code",
      "metadata": {
        "id": "J44jYoUTvfKp",
        "colab_type": "code",
        "outputId": "30c50964-f3d7-4e8e-dc4c-1d5fe538108b",
        "colab": {
          "base_uri": "https://localhost:8080/",
          "height": 1000
        }
      },
      "source": [
        "from sklearn.model_selection import KFold\n",
        "from sklearn.ensemble import RandomForestClassifier\n",
        "import time\n",
        "import warnings\n",
        "#disabilitiamo messaggi di warning \n",
        "warnings.filterwarnings(\"ignore\")\n",
        "X_critical = data_cri\n",
        "Y_critical = labels_cri\n",
        "X_critical = np.reshape(X_critical, (X_critical.shape[0], 28*28))\n",
        "\n",
        "#Valore del numero di alberi \n",
        "min_estimators = 10\n",
        "max_estimators = 101\n",
        "classifer = RandomForestClassifier\n",
        "\n",
        "n_estimator_range=np.arange(min_estimators, max_estimators, 10) #testiamo 10 valori per il primo iperparametro\n",
        "\n",
        "leaf_size_list=[2,10000] #testiamo due valori per il seocondo iperparametro (alta segmentazione e bassa segmentazione)\n",
        "\n",
        "#vettori di medie di training, test e critical\n",
        "Mtra = np.zeros((n,m))\n",
        "Mtes =np.zeros((n,m))\n",
        "Critic = np.zeros((n,m))\n",
        "\n",
        "m=len(n_estimator_range)\n",
        "n=len(leaf_size_list)\n",
        "\n",
        "#Allocate Arrays for various quantities\n",
        "RFC_OOB_accuracy=np.zeros((n,m))\n",
        "RFC_train_accuracy=np.zeros((n,m))\n",
        "RFC_test_accuracy=np.zeros((n,m))\n",
        "RFC_critical_accuracy=np.zeros((n,m))\n",
        "run_time=np.zeros((n,m))\n",
        "\n",
        "print_flag=True\n",
        "\n",
        "\n",
        "k=5\n",
        "kf = KFold(n_splits=k)\n",
        "\n",
        "for newtrainindex , newtestindex in kf.split(X) :\n",
        "  #print('TRAIN:', newtrainindex,'TEST:',newtestindex)\n",
        "  newxtrain,newxtest = X[newtrainindex],X[newtestindex]\n",
        "  newytrain,newytest = Y[newtrainindex], Y[newtestindex]\n",
        "  newxtrain = np.reshape(newxtrain, (newxtrain.shape[0], 28*28))\n",
        "  newxtest = np.reshape(newxtest, (newxtest.shape[0], 28*28))\n",
        "\n",
        "  for i, leaf_size in enumerate(leaf_size_list):\n",
        "     # Define Random Forest Classifier\n",
        "      x=0\n",
        "      myRF_clf = classifer(\n",
        "      n_estimators=min_estimators,\n",
        "      max_depth=None, \n",
        "      min_samples_split=leaf_size, # minimum number of sample per leaf\n",
        "      oob_score=True,\n",
        "      random_state=0,\n",
        "      warm_start=True # When set to True, reuse the solution of the previous call to fit and add more estimators to the ensemble, otherwise, just fit a whole new forest.\n",
        "      )\n",
        "      for j, n_estimator in enumerate(n_estimator_range):\n",
        "        \n",
        "        print('n_estimators: %i, leaf_size: %i'%(n_estimator,leaf_size))\n",
        "        \n",
        "        start_time = time.time()\n",
        "        myRF_clf.set_params(n_estimators=n_estimator)\n",
        "        myRF_clf.fit(newxtrain, newytrain)\n",
        "        run_time[i,j] = time.time() - start_time    \n",
        "        \n",
        "\n",
        "    # check accuracy\n",
        "\n",
        "        RFC_train_accuracy[i,j]=myRF_clf.score(newxtrain,newytrain)\n",
        "        RFC_OOB_accuracy[i,j]=myRF_clf.oob_score_\n",
        "        RFC_test_accuracy[i,j]=myRF_clf.score(newxtest,newytest)\n",
        "        RFC_critical_accuracy[i,j]=myRF_clf.score(X_critical,Y_critical)\n",
        "        Mtra[i,j] = Mtra[i,j]+RFC_train_accuracy[i,j]\n",
        "        Mtes[i,j] = Mtes[i,j]+RFC_test_accuracy[i,j]\n",
        "        Critic[i,j] = Critic[i,j]+RFC_critical_accuracy[i,j]\n",
        "        \n",
        "        if print_flag:\n",
        "            result = (run_time[i,j], RFC_train_accuracy[i,j], RFC_OOB_accuracy[i,j], RFC_test_accuracy[i,j], RFC_critical_accuracy[i,j])\n",
        "            print('{0:<15}{1:<15}{2:<15}{3:<15}{4:<15}'.format(\"time (s)\",\"train score\", \"OOB estimate\",\"test score\", \"critical score\"))\n",
        "            print('{0:<15.4f}{1:<15.4f}{2:<15.4f}{3:<15.4f}{4:<15.4f}'.format(*result))"
      ],
      "execution_count": 0,
      "outputs": [
        {
          "output_type": "stream",
          "text": [
            "n_estimators: 10, leaf_size: 2\n",
            "time (s)       train score    OOB estimate   test score     critical score \n",
            "2.7305         1.0000         0.9913         0.9986         0.7856         \n",
            "n_estimators: 20, leaf_size: 2\n",
            "time (s)       train score    OOB estimate   test score     critical score \n",
            "2.7169         1.0000         0.9997         0.9986         0.8015         \n",
            "n_estimators: 30, leaf_size: 2\n",
            "time (s)       train score    OOB estimate   test score     critical score \n",
            "2.9558         1.0000         1.0000         0.9987         0.7991         \n",
            "n_estimators: 40, leaf_size: 2\n",
            "time (s)       train score    OOB estimate   test score     critical score \n",
            "3.2390         1.0000         1.0000         0.9986         0.8064         \n",
            "n_estimators: 50, leaf_size: 2\n",
            "time (s)       train score    OOB estimate   test score     critical score \n",
            "3.5139         1.0000         1.0000         0.9983         0.8070         \n",
            "n_estimators: 60, leaf_size: 2\n",
            "time (s)       train score    OOB estimate   test score     critical score \n",
            "3.7423         1.0000         1.0000         0.9986         0.8080         \n",
            "n_estimators: 70, leaf_size: 2\n",
            "time (s)       train score    OOB estimate   test score     critical score \n",
            "4.0316         1.0000         1.0000         0.9984         0.8081         \n",
            "n_estimators: 80, leaf_size: 2\n",
            "time (s)       train score    OOB estimate   test score     critical score \n",
            "4.3318         1.0000         1.0000         0.9986         0.8087         \n",
            "n_estimators: 90, leaf_size: 2\n",
            "time (s)       train score    OOB estimate   test score     critical score \n",
            "4.5033         1.0000         1.0000         0.9985         0.8124         \n",
            "n_estimators: 100, leaf_size: 2\n",
            "time (s)       train score    OOB estimate   test score     critical score \n",
            "4.9280         1.0000         1.0000         0.9986         0.8137         \n",
            "n_estimators: 10, leaf_size: 10000\n",
            "time (s)       train score    OOB estimate   test score     critical score \n",
            "1.3566         0.8985         0.8865         0.6752         0.6742         \n",
            "n_estimators: 20, leaf_size: 10000\n",
            "time (s)       train score    OOB estimate   test score     critical score \n",
            "1.5649         0.8993         0.8972         0.6780         0.6873         \n",
            "n_estimators: 30, leaf_size: 10000\n",
            "time (s)       train score    OOB estimate   test score     critical score \n",
            "1.7705         0.8998         0.8990         0.6789         0.6933         \n",
            "n_estimators: 40, leaf_size: 10000\n",
            "time (s)       train score    OOB estimate   test score     critical score \n",
            "2.0949         0.8999         0.8992         0.6790         0.6941         \n",
            "n_estimators: 50, leaf_size: 10000\n",
            "time (s)       train score    OOB estimate   test score     critical score \n",
            "2.2486         0.8999         0.8995         0.6789         0.6976         \n",
            "n_estimators: 60, leaf_size: 10000\n",
            "time (s)       train score    OOB estimate   test score     critical score \n",
            "2.4916         0.9000         0.8996         0.6790         0.6962         \n",
            "n_estimators: 70, leaf_size: 10000\n",
            "time (s)       train score    OOB estimate   test score     critical score \n",
            "2.7207         0.9001         0.8996         0.6791         0.7000         \n",
            "n_estimators: 80, leaf_size: 10000\n",
            "time (s)       train score    OOB estimate   test score     critical score \n",
            "3.0260         0.9001         0.8997         0.6794         0.7026         \n",
            "n_estimators: 90, leaf_size: 10000\n",
            "time (s)       train score    OOB estimate   test score     critical score \n",
            "3.2080         0.9000         0.8998         0.6790         0.7019         \n",
            "n_estimators: 100, leaf_size: 10000\n",
            "time (s)       train score    OOB estimate   test score     critical score \n",
            "3.4657         0.9000         0.8999         0.6790         0.7002         \n",
            "n_estimators: 10, leaf_size: 2\n",
            "time (s)       train score    OOB estimate   test score     critical score \n",
            "2.6511         0.9999         0.9900         0.9999         0.8096         \n",
            "n_estimators: 20, leaf_size: 2\n",
            "time (s)       train score    OOB estimate   test score     critical score \n",
            "2.8943         1.0000         0.9991         1.0000         0.8100         \n",
            "n_estimators: 30, leaf_size: 2\n",
            "time (s)       train score    OOB estimate   test score     critical score \n",
            "3.1123         1.0000         0.9995         1.0000         0.8103         \n",
            "n_estimators: 40, leaf_size: 2\n",
            "time (s)       train score    OOB estimate   test score     critical score \n",
            "3.4635         1.0000         0.9995         1.0000         0.8165         \n",
            "n_estimators: 50, leaf_size: 2\n",
            "time (s)       train score    OOB estimate   test score     critical score \n",
            "3.6842         1.0000         0.9995         1.0000         0.8173         \n",
            "n_estimators: 60, leaf_size: 2\n",
            "time (s)       train score    OOB estimate   test score     critical score \n",
            "3.9498         1.0000         0.9995         1.0000         0.8160         \n",
            "n_estimators: 70, leaf_size: 2\n",
            "time (s)       train score    OOB estimate   test score     critical score \n",
            "4.2023         1.0000         0.9995         1.0000         0.8188         \n",
            "n_estimators: 80, leaf_size: 2\n",
            "time (s)       train score    OOB estimate   test score     critical score \n",
            "4.4548         1.0000         0.9995         1.0000         0.8181         \n",
            "n_estimators: 90, leaf_size: 2\n",
            "time (s)       train score    OOB estimate   test score     critical score \n",
            "4.7423         1.0000         0.9996         1.0000         0.8185         \n",
            "n_estimators: 100, leaf_size: 2\n",
            "time (s)       train score    OOB estimate   test score     critical score \n",
            "5.0143         1.0000         0.9995         1.0000         0.8170         \n",
            "n_estimators: 10, leaf_size: 10000\n",
            "time (s)       train score    OOB estimate   test score     critical score \n",
            "1.4247         0.8999         0.8877         0.6732         0.6793         \n",
            "n_estimators: 20, leaf_size: 10000\n",
            "time (s)       train score    OOB estimate   test score     critical score \n",
            "1.6207         0.9003         0.8983         0.6740         0.6872         \n",
            "n_estimators: 30, leaf_size: 10000\n",
            "time (s)       train score    OOB estimate   test score     critical score \n",
            "1.8496         0.9007         0.8998         0.6751         0.6923         \n",
            "n_estimators: 40, leaf_size: 10000\n",
            "time (s)       train score    OOB estimate   test score     critical score \n",
            "2.1486         0.9008         0.9003         0.6750         0.6897         \n",
            "n_estimators: 50, leaf_size: 10000\n",
            "time (s)       train score    OOB estimate   test score     critical score \n",
            "2.3484         0.9010         0.9005         0.6753         0.6980         \n",
            "n_estimators: 60, leaf_size: 10000\n",
            "time (s)       train score    OOB estimate   test score     critical score \n",
            "2.5675         0.9010         0.9006         0.6754         0.6965         \n",
            "n_estimators: 70, leaf_size: 10000\n",
            "time (s)       train score    OOB estimate   test score     critical score \n",
            "2.8046         0.9010         0.9008         0.6758         0.6965         \n",
            "n_estimators: 80, leaf_size: 10000\n",
            "time (s)       train score    OOB estimate   test score     critical score \n",
            "3.1102         0.9010         0.9009         0.6759         0.6994         \n",
            "n_estimators: 90, leaf_size: 10000\n",
            "time (s)       train score    OOB estimate   test score     critical score \n",
            "3.3134         0.9010         0.9009         0.6759         0.6976         \n",
            "n_estimators: 100, leaf_size: 10000\n",
            "time (s)       train score    OOB estimate   test score     critical score \n",
            "3.5288         0.9011         0.9008         0.6761         0.6990         \n",
            "n_estimators: 10, leaf_size: 2\n",
            "time (s)       train score    OOB estimate   test score     critical score \n",
            "2.5924         1.0000         0.9934         0.9993         0.7949         \n",
            "n_estimators: 20, leaf_size: 2\n",
            "time (s)       train score    OOB estimate   test score     critical score \n",
            "2.8545         1.0000         0.9997         0.9998         0.8133         \n",
            "n_estimators: 30, leaf_size: 2\n",
            "time (s)       train score    OOB estimate   test score     critical score \n",
            "2.9980         1.0000         0.9998         0.9998         0.8158         \n",
            "n_estimators: 40, leaf_size: 2\n",
            "time (s)       train score    OOB estimate   test score     critical score \n",
            "3.3981         1.0000         0.9998         0.9999         0.8197         \n",
            "n_estimators: 50, leaf_size: 2\n",
            "time (s)       train score    OOB estimate   test score     critical score \n",
            "3.5905         1.0000         0.9998         0.9999         0.8159         \n",
            "n_estimators: 60, leaf_size: 2\n",
            "time (s)       train score    OOB estimate   test score     critical score \n",
            "3.9190         1.0000         0.9998         0.9999         0.8173         \n",
            "n_estimators: 70, leaf_size: 2\n",
            "time (s)       train score    OOB estimate   test score     critical score \n",
            "4.1350         1.0000         0.9998         0.9999         0.8167         \n",
            "n_estimators: 80, leaf_size: 2\n",
            "time (s)       train score    OOB estimate   test score     critical score \n",
            "4.4547         1.0000         0.9998         0.9999         0.8179         \n",
            "n_estimators: 90, leaf_size: 2\n",
            "time (s)       train score    OOB estimate   test score     critical score \n",
            "4.6904         1.0000         0.9998         0.9999         0.8197         \n",
            "n_estimators: 100, leaf_size: 2\n",
            "time (s)       train score    OOB estimate   test score     critical score \n",
            "4.9284         1.0000         0.9998         0.9999         0.8196         \n",
            "n_estimators: 10, leaf_size: 10000\n",
            "time (s)       train score    OOB estimate   test score     critical score \n",
            "1.8420         0.9201         0.9035         0.9637         0.6723         \n",
            "n_estimators: 20, leaf_size: 10000\n",
            "time (s)       train score    OOB estimate   test score     critical score \n",
            "2.1046         0.8887         0.8913         0.9493         0.6794         \n",
            "n_estimators: 30, leaf_size: 10000\n",
            "time (s)       train score    OOB estimate   test score     critical score \n",
            "2.2709         0.9275         0.9197         0.9674         0.6791         \n",
            "n_estimators: 40, leaf_size: 10000\n",
            "time (s)       train score    OOB estimate   test score     critical score \n",
            "2.6197         0.9364         0.9281         0.9712         0.6853         \n",
            "n_estimators: 50, leaf_size: 10000\n",
            "time (s)       train score    OOB estimate   test score     critical score \n",
            "2.7586         0.9437         0.9366         0.9749         0.6875         \n",
            "n_estimators: 60, leaf_size: 10000\n",
            "time (s)       train score    OOB estimate   test score     critical score \n",
            "3.0058         0.9410         0.9340         0.9737         0.6902         \n",
            "n_estimators: 70, leaf_size: 10000\n",
            "time (s)       train score    OOB estimate   test score     critical score \n",
            "3.2454         0.9466         0.9394         0.9763         0.6868         \n",
            "n_estimators: 80, leaf_size: 10000\n",
            "time (s)       train score    OOB estimate   test score     critical score \n",
            "3.5484         0.9424         0.9371         0.9742         0.6857         \n",
            "n_estimators: 90, leaf_size: 10000\n",
            "time (s)       train score    OOB estimate   test score     critical score \n",
            "3.7621         0.9428         0.9395         0.9744         0.6879         \n",
            "n_estimators: 100, leaf_size: 10000\n",
            "time (s)       train score    OOB estimate   test score     critical score \n",
            "3.9598         0.9433         0.9394         0.9742         0.6886         \n",
            "n_estimators: 10, leaf_size: 2\n",
            "time (s)       train score    OOB estimate   test score     critical score \n",
            "2.8375         1.0000         0.9920         1.0000         0.7989         \n",
            "n_estimators: 20, leaf_size: 2\n",
            "time (s)       train score    OOB estimate   test score     critical score \n",
            "3.1352         1.0000         0.9994         1.0000         0.8105         \n",
            "n_estimators: 30, leaf_size: 2\n",
            "time (s)       train score    OOB estimate   test score     critical score \n",
            "3.3551         1.0000         0.9996         1.0000         0.8115         \n",
            "n_estimators: 40, leaf_size: 2\n",
            "time (s)       train score    OOB estimate   test score     critical score \n",
            "3.7183         1.0000         0.9997         1.0000         0.8102         \n",
            "n_estimators: 50, leaf_size: 2\n",
            "time (s)       train score    OOB estimate   test score     critical score \n",
            "3.9146         1.0000         0.9997         1.0000         0.8123         \n",
            "n_estimators: 60, leaf_size: 2\n",
            "time (s)       train score    OOB estimate   test score     critical score \n",
            "4.1286         1.0000         0.9997         1.0000         0.8146         \n",
            "n_estimators: 70, leaf_size: 2\n",
            "time (s)       train score    OOB estimate   test score     critical score \n",
            "4.4390         1.0000         0.9998         1.0000         0.8137         \n",
            "n_estimators: 80, leaf_size: 2\n",
            "time (s)       train score    OOB estimate   test score     critical score \n",
            "4.7945         1.0000         0.9997         1.0000         0.8147         \n",
            "n_estimators: 90, leaf_size: 2\n",
            "time (s)       train score    OOB estimate   test score     critical score \n",
            "5.0547         1.0000         0.9997         1.0000         0.8181         \n",
            "n_estimators: 100, leaf_size: 2\n",
            "time (s)       train score    OOB estimate   test score     critical score \n",
            "5.2311         1.0000         0.9997         1.0000         0.8178         \n",
            "n_estimators: 10, leaf_size: 10000\n",
            "time (s)       train score    OOB estimate   test score     critical score \n",
            "2.1183         0.9571         0.9256         0.9993         0.6874         \n",
            "n_estimators: 20, leaf_size: 10000\n",
            "time (s)       train score    OOB estimate   test score     critical score \n",
            "2.3361         0.9408         0.9261         0.9996         0.6850         \n",
            "n_estimators: 30, leaf_size: 10000\n",
            "time (s)       train score    OOB estimate   test score     critical score \n",
            "2.5975         0.9633         0.9521         0.9997         0.6991         \n",
            "n_estimators: 40, leaf_size: 10000\n",
            "time (s)       train score    OOB estimate   test score     critical score \n",
            "2.8693         0.9647         0.9575         0.9995         0.6979         \n",
            "n_estimators: 50, leaf_size: 10000\n",
            "time (s)       train score    OOB estimate   test score     critical score \n",
            "3.0863         0.9667         0.9622         0.9998         0.6998         \n",
            "n_estimators: 60, leaf_size: 10000\n",
            "time (s)       train score    OOB estimate   test score     critical score \n",
            "3.3392         0.9682         0.9636         0.9997         0.6992         \n",
            "n_estimators: 70, leaf_size: 10000\n",
            "time (s)       train score    OOB estimate   test score     critical score \n",
            "3.5480         0.9712         0.9674         0.9998         0.6982         \n",
            "n_estimators: 80, leaf_size: 10000\n",
            "time (s)       train score    OOB estimate   test score     critical score \n",
            "3.8860         0.9709         0.9670         0.9998         0.7028         \n",
            "n_estimators: 90, leaf_size: 10000\n",
            "time (s)       train score    OOB estimate   test score     critical score \n",
            "4.0701         0.9693         0.9657         0.9998         0.7017         \n",
            "n_estimators: 100, leaf_size: 10000\n",
            "time (s)       train score    OOB estimate   test score     critical score \n",
            "4.2789         0.9697         0.9659         0.9998         0.7019         \n",
            "n_estimators: 10, leaf_size: 2\n",
            "time (s)       train score    OOB estimate   test score     critical score \n",
            "2.7851         1.0000         0.9917         1.0000         0.7954         \n",
            "n_estimators: 20, leaf_size: 2\n",
            "time (s)       train score    OOB estimate   test score     critical score \n",
            "3.0621         1.0000         0.9993         1.0000         0.8045         \n",
            "n_estimators: 30, leaf_size: 2\n",
            "time (s)       train score    OOB estimate   test score     critical score \n",
            "3.2397         1.0000         0.9996         1.0000         0.8073         \n",
            "n_estimators: 40, leaf_size: 2\n",
            "time (s)       train score    OOB estimate   test score     critical score \n",
            "3.5602         1.0000         0.9997         1.0000         0.8104         \n",
            "n_estimators: 50, leaf_size: 2\n",
            "time (s)       train score    OOB estimate   test score     critical score \n",
            "3.7939         1.0000         0.9997         1.0000         0.8089         \n",
            "n_estimators: 60, leaf_size: 2\n",
            "time (s)       train score    OOB estimate   test score     critical score \n",
            "4.0031         1.0000         0.9997         1.0000         0.8109         \n",
            "n_estimators: 70, leaf_size: 2\n",
            "time (s)       train score    OOB estimate   test score     critical score \n",
            "4.2223         1.0000         0.9998         1.0000         0.8118         \n",
            "n_estimators: 80, leaf_size: 2\n",
            "time (s)       train score    OOB estimate   test score     critical score \n",
            "4.6562         1.0000         0.9998         1.0000         0.8148         \n",
            "n_estimators: 90, leaf_size: 2\n",
            "time (s)       train score    OOB estimate   test score     critical score \n",
            "4.7742         1.0000         0.9998         1.0000         0.8154         \n",
            "n_estimators: 100, leaf_size: 2\n",
            "time (s)       train score    OOB estimate   test score     critical score \n",
            "5.0653         1.0000         0.9998         1.0000         0.8179         \n",
            "n_estimators: 10, leaf_size: 10000\n",
            "time (s)       train score    OOB estimate   test score     critical score \n",
            "1.9872         0.9653         0.9309         0.9991         0.6886         \n",
            "n_estimators: 20, leaf_size: 10000\n",
            "time (s)       train score    OOB estimate   test score     critical score \n",
            "2.2396         0.9554         0.9382         0.9992         0.6893         \n",
            "n_estimators: 30, leaf_size: 10000\n",
            "time (s)       train score    OOB estimate   test score     critical score \n",
            "2.4265         0.9683         0.9581         0.9994         0.6995         \n",
            "n_estimators: 40, leaf_size: 10000\n",
            "time (s)       train score    OOB estimate   test score     critical score \n",
            "2.6981         0.9681         0.9612         0.9996         0.6985         \n",
            "n_estimators: 50, leaf_size: 10000\n",
            "time (s)       train score    OOB estimate   test score     critical score \n",
            "2.9470         0.9687         0.9642         0.9996         0.6976         \n",
            "n_estimators: 60, leaf_size: 10000\n",
            "time (s)       train score    OOB estimate   test score     critical score \n",
            "3.1989         0.9695         0.9650         0.9996         0.6972         \n",
            "n_estimators: 70, leaf_size: 10000\n",
            "time (s)       train score    OOB estimate   test score     critical score \n",
            "3.3548         0.9724         0.9687         0.9996         0.7039         \n",
            "n_estimators: 80, leaf_size: 10000\n",
            "time (s)       train score    OOB estimate   test score     critical score \n",
            "3.7139         0.9714         0.9679         0.9996         0.6996         \n",
            "n_estimators: 90, leaf_size: 10000\n",
            "time (s)       train score    OOB estimate   test score     critical score \n",
            "3.9352         0.9696         0.9670         0.9997         0.7047         \n",
            "n_estimators: 100, leaf_size: 10000\n",
            "time (s)       train score    OOB estimate   test score     critical score \n",
            "4.1310         0.9693         0.9668         0.9996         0.7052         \n"
          ],
          "name": "stdout"
        }
      ]
    },
    {
      "cell_type": "code",
      "metadata": {
        "id": "hw9lqXslx3HE",
        "colab_type": "code",
        "outputId": "8d16836d-b4fb-4c5b-a55d-d037ecaaea5d",
        "colab": {
          "base_uri": "https://localhost:8080/",
          "height": 425
        }
      },
      "source": [
        "print(Mtra)\n",
        "print(Mtes)\n",
        "print(Critic)\n",
        "\n",
        "Mtra=Mtra/k\n",
        "Mtes=Mtes/k\n",
        "Critic=Critic/k\n",
        "\n",
        "print(Mtra)\n",
        "print(Mtes)\n",
        "print(Critic)"
      ],
      "execution_count": 0,
      "outputs": [
        {
          "output_type": "stream",
          "text": [
            "[[4.99991684 4.99997228 4.99998614 5.         5.         5.\n",
            "  5.         5.         5.         5.        ]\n",
            " [4.6408903  4.58455248 4.65958645 4.66981457 4.6799734  4.67968236\n",
            "  4.69136571 4.68582201 4.68273139 4.68345208]]\n",
            "[[4.99772711 4.9984478  4.99850323 4.9984478  4.99817062 4.99850324\n",
            "  4.99833693 4.9984478  4.99839237 4.99850324]\n",
            " [4.3106027  4.30001375 4.32052589 4.32429571 4.32856447 4.32734481\n",
            "  4.33067109 4.32889703 4.32889706 4.32873073]]\n",
            "[[3.98440049 4.03976346 4.04394372 4.06311175 4.06137847 4.06678222\n",
            "  4.06912724 4.07432708 4.08411501 4.0860522 ]\n",
            " [3.4019168  3.42822186 3.46339723 3.46553834 3.4805261  3.47920065\n",
            "  3.48542007 3.49011011 3.49378059 3.49500408]]\n",
            "[[0.99998337 0.99999446 0.99999723 1.         1.         1.\n",
            "  1.         1.         1.         1.        ]\n",
            " [0.92817806 0.9169105  0.93191729 0.93396291 0.93599468 0.93593647\n",
            "  0.93827314 0.9371644  0.93654628 0.93669042]]\n",
            "[[0.99954542 0.99968956 0.99970065 0.99968956 0.99963412 0.99970065\n",
            "  0.99966739 0.99968956 0.99967847 0.99970065]\n",
            " [0.86212054 0.86000275 0.86410518 0.86485914 0.86571289 0.86546896\n",
            "  0.86613422 0.86577941 0.86577941 0.86574615]]\n",
            "[[0.7968801  0.80795269 0.80878874 0.81262235 0.81227569 0.81335644\n",
            "  0.81382545 0.81486542 0.816823   0.81721044]\n",
            " [0.68038336 0.68564437 0.69267945 0.69310767 0.69610522 0.69584013\n",
            "  0.69708401 0.69802202 0.69875612 0.69900082]]\n"
          ],
          "name": "stdout"
        }
      ]
    },
    {
      "cell_type": "code",
      "metadata": {
        "id": "ZyYuaBVfyHIf",
        "colab_type": "code",
        "outputId": "59802d17-2151-4bbc-fd88-1188772fbcb5",
        "colab": {
          "base_uri": "https://localhost:8080/",
          "height": 283
        }
      },
      "source": [
        "plt.figure()\n",
        "plt.plot(n_estimator_range,Mtra[1],'--b^',label='Train (bassa segmentazione)')\n",
        "plt.plot(n_estimator_range,Mtra[1],'--r^',label='Test (bassa segmentazione)')\n",
        "plt.plot(n_estimator_range,Critic[1],'--g^',label='Critical (bassa segmentazione)')\n",
        "\n",
        "plt.plot(n_estimator_range,Mtra[0],'o-b',label='Train (alta segmentazione)')\n",
        "plt.plot(n_estimator_range,Mtes[0],'o-r',label='Test (alta segmentazione)')\n",
        "plt.plot(n_estimator_range,Critic[0],'o-g',label='Critical (alta segmentazione)')\n",
        "\n",
        "plt.xlabel('$N_\\mathrm{estimators}$')\n",
        "plt.ylabel('Accuracy')\n",
        "lgd=plt.legend(bbox_to_anchor=(1.05, 1), loc=2, borderaxespad=0.)\n",
        "plt.savefig(\"Ising_RF.pdf\",bbox_extra_artists=(lgd,), bbox_inches='tight')\n",
        "\n",
        "plt.show()\n",
        "#plt.savefig(\"Ising_RF_Runtime.pdf\")"
      ],
      "execution_count": 0,
      "outputs": [
        {
          "output_type": "display_data",
          "data": {
            "image/png": "[encoded data removed]",
            "text/plain": [
              "<Figure size 432x288 with 1 Axes>"
            ]
          },
          "metadata": {
            "tags": [],
            "needs_background": "light"
          }
        }
      ]
    },
    {
      "cell_type": "markdown",
      "metadata": {
        "id": "o4q5ZwvOflJ_",
        "colab_type": "text"
      },
      "source": [
        "Come era lecito aspettarsi, i risultati non differiscono molto da quanto osservato in precedenza. La bassa segmentazione produce i valori di accuracy migliori per il training ed il test già a partire da 40 stimatori (ottenendo come accuracy migliore sul test il $99.97\\%$), mentre l'alta segmentazione rimane distante in termini di performance (l'accuracy migliore sul test è in questo caso $86.61\\%$). Anche per quanto riguarda i campioni relativi alle temperature critiche si conferma la tendenza già osservata: l'alta segmentazione produce un'accuracy massima dell'$81.72\\%$, mentre la bassa segmentazione si ferma al $69.90\\%$."
      ]
    },
    {
      "cell_type": "markdown",
      "metadata": {
        "id": "GdtP6FZlPB7U",
        "colab_type": "text"
      },
      "source": [
        "#**Gradient Boosting Regressor**"
      ]
    },
    {
      "cell_type": "markdown",
      "metadata": {
        "id": "GJnG1ip1tGsl",
        "colab_type": "text"
      },
      "source": [
        "Infine, dedichiamoci all'addestramento di un regressore di tipo Gradient Boost in grado di predire le temperature associate alle varie configurazioni degli spin."
      ]
    },
    {
      "cell_type": "code",
      "metadata": {
        "id": "Er0dKaWMPHtf",
        "colab_type": "code",
        "colab": {}
      },
      "source": [
        "# dividiamo il campione in 3 campioni sulla base dello stato (ordinato, critico, disordinato)\n",
        "# T/J < 2.0 ordinato\n",
        "# T/J > 2.5 disordinato\n",
        "# altrimenti critico\n",
        "\n",
        "ord_sele = (labels < 2.0)\n",
        "dis_sele = (labels > 2.5)\n",
        "cri_sele = ((labels >= 2.0) & (labels <= 2.5))\n",
        "lab_dis = []\n",
        "lab_ord = []\n",
        "lab_crit =[]\n",
        "for d in labels:\n",
        "  if d < 2 :\n",
        "    lab_ord.append(d)\n",
        "  if d > 2.5 :\n",
        "    lab_dis.append(d)\n",
        "  else :\n",
        "    lab_crit.append(d)"
      ],
      "execution_count": 0,
      "outputs": []
    },
    {
      "cell_type": "code",
      "metadata": {
        "id": "UdaKNQf5PhfZ",
        "colab_type": "code",
        "colab": {}
      },
      "source": [
        "lab_ord = np.array(lab_ord)\n",
        "lab_dis = np.array(lab_dis)\n",
        "lab_crit = np.array(lab_crit)\n",
        "#print(ord.shape)\n",
        "#print(labels_ord.shape)"
      ],
      "execution_count": 0,
      "outputs": []
    },
    {
      "cell_type": "code",
      "metadata": {
        "id": "d1xpAlsQPsto",
        "colab_type": "code",
        "colab": {}
      },
      "source": [
        "#creiamo i campioni di training, di test e delle temperature critiche\n",
        "\n",
        "from sklearn.model_selection import train_test_split\n",
        "train_to_test_ratio = 0.8\n",
        "X_gbr=np.concatenate((data_ord,data_dis))\n",
        "Y_gbr=np.concatenate((lab_ord,lab_dis))\n",
        "X_traingbr,X_testgbr,Y_traingbr,Y_testgbr=train_test_split(X_gbr,Y_gbr,train_size=train_to_test_ratio,test_size=1.0-train_to_test_ratio)\n",
        "X_critgbr = data_cri\n",
        "Y_critgbr = lab_crit\n",
        "X_traingbr = np.reshape(X_traingbr, (X_traingbr.shape[0], 28*28))\n",
        "X_testgbr = np.reshape(X_testgbr, (X_testgbr.shape[0], 28*28))\n",
        "X_critgbr = np.reshape(X_critgbr, (X_critgbr.shape[0], 28*28))"
      ],
      "execution_count": 0,
      "outputs": []
    },
    {
      "cell_type": "code",
      "metadata": {
        "id": "4_6GQtJOPw9_",
        "colab_type": "code",
        "outputId": "bba701b2-32a5-4355-89c8-174fe7dc7455",
        "colab": {
          "base_uri": "https://localhost:8080/",
          "height": 170
        }
      },
      "source": [
        "#addestriamo l'algoritmo\n",
        "\n",
        "from sklearn.ensemble import GradientBoostingRegressor\n",
        "from sklearn import metrics\n",
        "\n",
        "gbr = GradientBoostingRegressor(n_estimators=100)\n",
        "gbr.fit(X_traingbr,Y_traingbr)"
      ],
      "execution_count": 0,
      "outputs": [
        {
          "output_type": "execute_result",
          "data": {
            "text/plain": [
              "GradientBoostingRegressor(alpha=0.9, ccp_alpha=0.0, criterion='friedman_mse',\n",
              "                          init=None, learning_rate=0.1, loss='ls', max_depth=3,\n",
              "                          max_features=None, max_leaf_nodes=None,\n",
              "                          min_impurity_decrease=0.0, min_impurity_split=None,\n",
              "                          min_samples_leaf=1, min_samples_split=2,\n",
              "                          min_weight_fraction_leaf=0.0, n_estimators=100,\n",
              "                          n_iter_no_change=None, presort='deprecated',\n",
              "                          random_state=None, subsample=1.0, tol=0.0001,\n",
              "                          validation_fraction=0.1, verbose=0, warm_start=False)"
            ]
          },
          "metadata": {
            "tags": []
          },
          "execution_count": 37
        }
      ]
    },
    {
      "cell_type": "code",
      "metadata": {
        "id": "LuBQ6fdIQFHm",
        "colab_type": "code",
        "outputId": "17567ece-a5ca-4ac0-c945-c7656fd405bc",
        "colab": {
          "base_uri": "https://localhost:8080/",
          "height": 85
        }
      },
      "source": [
        "#stampiamo una temperatura predetta e confrontiamola con quella vera\n",
        "\n",
        "#import sys\n",
        "#np.set_printoptions(threshold=sys.maxsize)\n",
        "#print(X_test.shape)\n",
        "print(\"\\n\")\n",
        "print(gbr.predict(X_testgbr)[1])\n",
        "print(Y_testgbr[1])"
      ],
      "execution_count": 0,
      "outputs": [
        {
          "output_type": "stream",
          "text": [
            "\n",
            "\n",
            "4.489519339119534\n",
            "4.85858\n"
          ],
          "name": "stdout"
        }
      ]
    },
    {
      "cell_type": "markdown",
      "metadata": {
        "id": "ygWdEK3EvFxG",
        "colab_type": "text"
      },
      "source": [
        "Osserviamo che, nell'esempio in esame, la temperatura predetta è prossima a quella vera. Tuttavia, la differenza tra i due valori non è tale da promuovere la capacità di predizione dell'algoritmo: l'errore è infatti del $7.6\\%$, mentre ci aspetteremmo che un algoritmo perfettamente funzionante riesca a produrre risultati con un errore ben minore.\n",
        "\n",
        "Per esaminare più a fondo la questione, calcoliamo l'accuracy dell'algoritmo. Essendo la temperatura una grandezza con valori nel continuo, occorrerà stabilire un valore di soglia $\\epsilon$ per la differenza tra la temperatura predetta e quella vera entro il quale consideriamo due valori compatibili. Dall'esempio mostrato sopra, risulta chiaro che l'errore commesso dall'algoritmo sia piuttosto alto. Dovremo pertanto considerare valori di $\\epsilon$ non troppo piccoli."
      ]
    },
    {
      "cell_type": "code",
      "metadata": {
        "id": "-bTRAdzbTj0T",
        "colab_type": "code",
        "outputId": "87e7709d-621b-4678-f105-bb67779f8418",
        "colab": {
          "base_uri": "https://localhost:8080/",
          "height": 68
        }
      },
      "source": [
        "#Calcoliamo le accuracy\n",
        "\n",
        "eps = [1e-4, 1e-3, 1e-2, 0.1, 0.5, 1, 2]\n",
        "\n",
        "gbr_pred_train = gbr.predict(X_traingbr)\n",
        "gbr_pred_test = gbr.predict(X_testgbr)\n",
        "gbr_pred_crit = gbr.predict(X_critgbr)\n",
        "\n",
        "print(gbr_pred_train.shape)\n",
        "print(gbr_pred_test.shape)\n",
        "print(gbr_pred_crit.shape)"
      ],
      "execution_count": 0,
      "outputs": [
        {
          "output_type": "stream",
          "text": [
            "(72153,)\n",
            "(18039,)\n",
            "(9808,)\n"
          ],
          "name": "stdout"
        }
      ]
    },
    {
      "cell_type": "code",
      "metadata": {
        "id": "-XahS0w9aJgE",
        "colab_type": "code",
        "outputId": "05d756c8-98ec-4dac-9fe3-ba36ab7b7f03",
        "colab": {
          "base_uri": "https://localhost:8080/",
          "height": 731
        }
      },
      "source": [
        "gbr_acc_train = 0\n",
        "gbr_acc_test = 0\n",
        "gbr_acc_crit = 0\n",
        "\n",
        "for epsilon in eps:\n",
        "  for i in range(0,72153,1):\n",
        "    if abs(gbr_pred_train[i]-Y_traingbr[i]) < epsilon:\n",
        "      gbr_acc_train += 1\n",
        "\n",
        "  gbr_acc_train /= 72153\n",
        "\n",
        "  for i in range(0,18039,1):\n",
        "    if abs(gbr_pred_test[i]-Y_testgbr[i]) < epsilon:\n",
        "      gbr_acc_test += 1\n",
        "\n",
        "  gbr_acc_test /= 18039\n",
        "\n",
        "  for i in range(0,9808,1):\n",
        "    if abs(gbr_pred_crit[i]-Y_critgbr[i]) < epsilon:\n",
        "      gbr_acc_crit += 1\n",
        "\n",
        "  gbr_acc_crit /= 9808\n",
        "\n",
        "  print('Tolerance: %g'%epsilon)\n",
        "  print(\"Accuracy on the train set: %.4f\"%gbr_acc_train)\n",
        "  print(\"Accuracy on the test set: %.4f\"%gbr_acc_test)\n",
        "  print(\"Accuracy on the critical set: %.4f\"%gbr_acc_crit)\n",
        "  print('\\n')"
      ],
      "execution_count": 0,
      "outputs": [
        {
          "output_type": "stream",
          "text": [
            "Tolerance: 0.0001\n",
            "Accuracy on the train set: 0.0001\n",
            "Accuracy on the test set: 0.0000\n",
            "Accuracy on the critical set: 0.0001\n",
            "\n",
            "\n",
            "Tolerance: 0.001\n",
            "Accuracy on the train set: 0.0012\n",
            "Accuracy on the test set: 0.0008\n",
            "Accuracy on the critical set: 0.0002\n",
            "\n",
            "\n",
            "Tolerance: 0.01\n",
            "Accuracy on the train set: 0.0116\n",
            "Accuracy on the test set: 0.0108\n",
            "Accuracy on the critical set: 0.0038\n",
            "\n",
            "\n",
            "Tolerance: 0.1\n",
            "Accuracy on the train set: 0.1186\n",
            "Accuracy on the test set: 0.1165\n",
            "Accuracy on the critical set: 0.0435\n",
            "\n",
            "\n",
            "Tolerance: 0.5\n",
            "Accuracy on the train set: 0.5776\n",
            "Accuracy on the test set: 0.5697\n",
            "Accuracy on the critical set: 0.2126\n",
            "\n",
            "\n",
            "Tolerance: 1\n",
            "Accuracy on the train set: 0.9116\n",
            "Accuracy on the test set: 0.9033\n",
            "Accuracy on the critical set: 0.4148\n",
            "\n",
            "\n",
            "Tolerance: 2\n",
            "Accuracy on the train set: 0.9981\n",
            "Accuracy on the test set: 0.9976\n",
            "Accuracy on the critical set: 0.7737\n",
            "\n",
            "\n"
          ],
          "name": "stdout"
        }
      ]
    },
    {
      "cell_type": "markdown",
      "metadata": {
        "id": "ErpV3L7cHN9G",
        "colab_type": "text"
      },
      "source": [
        "Come era prevedibile, i valori dell'accuracy sono molto bassi per degli $\\epsilon$ comunque elevati, rispetto alla variazione massima desiderata nel determinare una temperatura. Osserviamo che solo ammettendo una differenza massima di 0.5 tra predizione e misura l'accuracy sui campioni di training e di test supera il $50\\%$, mentre per ottenere un'accuracy almeno del $90\\%$ sugli stessi campioni è necessario spingersi a $\\epsilon=1$. Per quanto riguarda i campioni relativi a temperature critiche, si ottiene un buon valore di accuracy solo per $\\epsilon=2$. Avendo però stabilito come range delle temperature critiche [2, 2.5], non possiamo che considerare inconcludente qualsiasi analisi eseguita con una tolleranza così elevata."
      ]
    }
  ]
}